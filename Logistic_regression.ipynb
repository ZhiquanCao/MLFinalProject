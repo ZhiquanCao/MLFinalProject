{
  "cells": [
    {
      "cell_type": "code",
      "execution_count": 1,
      "metadata": {
        "id": "pJwV2WCkYuth"
      },
      "outputs": [],
      "source": [
        "import numpy as np\n",
        "import matplotlib\n",
        "import pandas as pd\n",
        "import matplotlib.pyplot as plt\n",
        "from sklearn.model_selection import StratifiedShuffleSplit, train_test_split\n",
        "from sklearn.linear_model import LogisticRegression\n",
        "# Handling data imbalance\n",
        "from imblearn.under_sampling import NearMiss"
      ]
    },
    {
      "cell_type": "code",
      "execution_count": 2,
      "metadata": {
        "colab": {
          "base_uri": "https://localhost:8080/"
        },
        "id": "3qQzN5syZV0l",
        "outputId": "a013f938-ecc3-44ae-d7cf-0db13a465ee3"
      },
      "outputs": [
        {
          "output_type": "stream",
          "name": "stdout",
          "text": [
            "Drive already mounted at /content/drive; to attempt to forcibly remount, call drive.mount(\"/content/drive\", force_remount=True).\n"
          ]
        }
      ],
      "source": [
        "from google.colab import drive\n",
        "drive.mount('/content/drive')"
      ]
    },
    {
      "cell_type": "code",
      "execution_count": 3,
      "metadata": {
        "id": "DpMlVWaVZXUC"
      },
      "outputs": [],
      "source": [
        "# File path\n",
        "file_path = 'drive/MyDrive/LetterRecognition/Colab Notebooks/A_Z Handwritten Data.csv'\n",
        "\n",
        "# Load Data\n",
        "df = pd.read_csv(file_path)\n",
        "# df = pd.read_csv(\"/content/drive/MyDrive/ML/Final Project/LetterRecognition/Colab Notebooks/A_Z Handwritten Data.csv\")"
      ]
    },
    {
      "cell_type": "code",
      "source": [
        "# Get the labels\n",
        "y = df.pop('0')"
      ],
      "metadata": {
        "id": "7akg5TJf4ZyP"
      },
      "execution_count": 4,
      "outputs": []
    },
    {
      "cell_type": "code",
      "source": [
        "nm = NearMiss()\n",
        "x_data, y_data = nm.fit_resample(df, y)"
      ],
      "metadata": {
        "id": "8ZrWgfyk4gOM"
      },
      "execution_count": 5,
      "outputs": []
    },
    {
      "cell_type": "code",
      "source": [
        "X_train, X_test, y_train, y_test = train_test_split(\n",
        "    x_data, y_data,   \n",
        "    test_size = 0.07, random_state=10, shuffle=True, stratify=y_data\n",
        ")"
      ],
      "metadata": {
        "id": "H6JljI_I9rEg"
      },
      "execution_count": 6,
      "outputs": []
    },
    {
      "cell_type": "code",
      "source": [
        "# normalizing features, data ranges frrom 0-255\n",
        "X_train = 2*X_train/255 -1\n",
        "X_test = 2*X_test/255-1"
      ],
      "metadata": {
        "id": "tDoGd93huR-O"
      },
      "execution_count": 7,
      "outputs": []
    },
    {
      "cell_type": "code",
      "execution_count": 8,
      "metadata": {
        "id": "qExMCBs0ZePT"
      },
      "outputs": [],
      "source": [
        "def test_prediction(model):\n",
        "    temp_val = model.predict(X_test)\n",
        "    running_total = 0\n",
        "    numpy_test = y_test.to_numpy()\n",
        "    for k in range(len(temp_val)):\n",
        "        if temp_val[k] == numpy_test[k]:\n",
        "            running_total += 1\n",
        "    return running_total / len(temp_val)"
      ]
    },
    {
      "cell_type": "code",
      "execution_count": null,
      "metadata": {
        "colab": {
          "base_uri": "https://localhost:8080/"
        },
        "id": "Xf-lUG4SZfv3",
        "outputId": "d3c6af40-b035-415e-d72b-3eab562788dc"
      },
      "outputs": [
        {
          "output_type": "stream",
          "name": "stderr",
          "text": [
            "/usr/local/lib/python3.8/dist-packages/sklearn/linear_model/_sag.py:352: ConvergenceWarning: The max_iter was reached which means the coef_ did not converge\n",
            "  warnings.warn(\n"
          ]
        },
        {
          "output_type": "stream",
          "name": "stdout",
          "text": [
            "Calculated model: l1_1\n"
          ]
        },
        {
          "output_type": "stream",
          "name": "stderr",
          "text": [
            "/usr/local/lib/python3.8/dist-packages/sklearn/linear_model/_sag.py:352: ConvergenceWarning: The max_iter was reached which means the coef_ did not converge\n",
            "  warnings.warn(\n"
          ]
        },
        {
          "output_type": "stream",
          "name": "stdout",
          "text": [
            "Calculated model: l1_10\n"
          ]
        }
      ],
      "source": [
        "m_dict = {}\n",
        "penalties = ['l1', 'l2', 'None']\n",
        "C_values = [1,10, 100]\n",
        "for p in penalties:\n",
        "    for c in C_values:\n",
        "        key = \"{}_{}\".format(p,c)\n",
        "        m_dict[key] = LogisticRegression(\n",
        "            penalty=p,\n",
        "            C=c,\n",
        "            solver='saga',\n",
        "            multi_class='multinomial',\n",
        "            ).fit(X_train,y_train)\n",
        "        print(\"Calculated model: {}\".format(key))\n"
      ]
    },
    {
      "cell_type": "code",
      "source": [
        "m_dict"
      ],
      "metadata": {
        "colab": {
          "base_uri": "https://localhost:8080/"
        },
        "id": "3vOGlPm35aiP",
        "outputId": "98e067ae-a8d8-4aeb-ff45-9ae9812439b7"
      },
      "execution_count": 14,
      "outputs": [
        {
          "output_type": "execute_result",
          "data": {
            "text/plain": [
              "{'l2_1': LogisticRegression(C=1, multi_class='multinomial', solver='saga'),\n",
              " 'l2_10': LogisticRegression(C=10, multi_class='multinomial', solver='saga'),\n",
              " 'l2_100': LogisticRegression(C=100, multi_class='multinomial', solver='saga'),\n",
              " 'none_1': LogisticRegression(C=1, multi_class='multinomial', penalty='none',\n",
              "                    solver='saga'),\n",
              " 'none_10': LogisticRegression(C=10, multi_class='multinomial', penalty='none',\n",
              "                    solver='saga'),\n",
              " 'none_100': LogisticRegression(C=100, multi_class='multinomial', penalty='none',\n",
              "                    solver='saga')}"
            ]
          },
          "metadata": {},
          "execution_count": 14
        }
      ]
    },
    {
      "cell_type": "code",
      "source": [
        "l1 = []\n",
        "l2 = []\n",
        "N = []\n",
        "for key in m_dict.keys():\n",
        "  if key[1] == \"1\":\n",
        "    l1.append(test_prediction(m_dict[key]))\n",
        "  if key[1]==\"2\":\n",
        "    l2.append(test_prediction(m_dict[key]))\n",
        "  elif key[0]=='N':\n",
        "    N.append(test_prediction(m_dict[key]))\n",
        "\n",
        "plt.figure(1)\n",
        "plt.plot(C_values, l1, ls='-', marker='+')\n",
        "plt.plot(C_values, l2, ls='-', marker='+')\n",
        "plt.plot(C_values, N, ls='-', marker='+')\n",
        "plt.legend(['L1 regulation','L2 regulation','No regulation'])\n",
        "plt.title('Accuracy')\n",
        "plt.xlabel('C value')\n",
        "\n",
        "\n",
        "\n",
        "\n",
        "\n",
        "\n"
      ],
      "metadata": {
        "colab": {
          "base_uri": "https://localhost:8080/",
          "height": 313
        },
        "id": "olSKzZ8rzpPn",
        "outputId": "9970ba99-8431-4e63-9c4f-3eb03f3bce47"
      },
      "execution_count": 15,
      "outputs": [
        {
          "output_type": "execute_result",
          "data": {
            "text/plain": [
              "Text(0.5, 0, 'C value')"
            ]
          },
          "metadata": {},
          "execution_count": 15
        },
        {
          "output_type": "display_data",
          "data": {
            "text/plain": [
              "<Figure size 432x288 with 1 Axes>"
            ],
            "image/png": "[encoded data removed]"
          },
          "metadata": {
            "needs_background": "light"
          }
        }
      ]
    },
    {
      "cell_type": "code",
      "execution_count": 19,
      "metadata": {
        "id": "qOH1_KRbcxBG"
      },
      "outputs": [],
      "source": [
        "score_dict = {}\n",
        "for model in m_dict:\n",
        "    score_dict[model] = test_prediction(m_dict[model])"
      ]
    },
    {
      "cell_type": "code",
      "execution_count": 20,
      "metadata": {
        "id": "3Q1IseUvcxgj",
        "colab": {
          "base_uri": "https://localhost:8080/"
        },
        "outputId": "f03465ef-c20e-4bad-cb3c-01b028eafe40"
      },
      "outputs": [
        {
          "output_type": "stream",
          "name": "stdout",
          "text": [
            "Model: l2_1\n",
            " score: 0.8940657184894556\n",
            " weights: N/A\n",
            "Model: l2_10\n",
            " score: 0.8935752820009809\n",
            " weights: N/A\n",
            "Model: l2_100\n",
            " score: 0.8935752820009809\n",
            " weights: N/A\n",
            "Model: none_1\n",
            " score: 0.8945561549779304\n",
            " weights: N/A\n",
            "Model: none_10\n",
            " score: 0.8945561549779304\n",
            " weights: N/A\n",
            "Model: none_100\n",
            " score: 0.8940657184894556\n",
            " weights: N/A\n"
          ]
        }
      ],
      "source": [
        "for i in score_dict.keys():\n",
        "    print(\"Model: {}\\n score: {}\\n weights: {}\".format(\n",
        "        i,\n",
        "        score_dict[i], \"N/A\"\n",
        "        # m_dict[i].coef_\n",
        "    ))"
      ]
    }
  ],
  "metadata": {
    "colab": {
      "provenance": []
    },
    "kernelspec": {
      "display_name": "Python 3",
      "name": "python3"
    },
    "language_info": {
      "name": "python"
    }
  },
  "nbformat": 4,
  "nbformat_minor": 0
}
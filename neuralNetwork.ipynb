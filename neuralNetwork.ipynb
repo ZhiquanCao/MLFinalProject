{
  "cells": [
    {
      "cell_type": "markdown",
      "source": [
        "# Handwritten Letter recognition via Neural Network"
      ],
      "metadata": {
        "id": "lTVxVVeM5075"
      }
    },
    {
      "cell_type": "markdown",
      "source": [
        "In this file, we will apply the Neural Network algorithm on the data set. The result will be plotted with graphs. The dataset is described here:\n",
        "\n",
        "https://www.kaggle.com/datasets/sachinpatel21/az-handwritten-alphabets-in-csv-format\n",
        "\n",
        "Each sample is a row of flattened pixels values of a upper-case letter image. The labeled results are stored at the first column as numbers from 0-25 representing 26 letters. We will split the data into training data and test data. We will compare the performance across different models and parameters."
      ],
      "metadata": {
        "id": "1iCBIwvA6LGq"
      }
    },
    {
      "cell_type": "markdown",
      "source": [
        "# **Imports**"
      ],
      "metadata": {
        "id": "Em8813jsATOx"
      }
    },
    {
      "cell_type": "code",
      "execution_count": 2,
      "metadata": {
        "_cell_guid": "b1076dfc-b9ad-4769-8c92-a6c4dae69d19",
        "_uuid": "8f2839f25d086af736a60e9eeb907d3b93b6e0e5",
        "trusted": true,
        "id": "kQD-EKYaRB8V"
      },
      "outputs": [],
      "source": [
        "import os \n",
        "import keras\n",
        "import numpy as np\n",
        "import pandas as pd\n",
        "import tensorflow as tf\n",
        "\n",
        "# Handling data imbalance\n",
        "from imblearn.under_sampling import NearMiss\n",
        "from keras.utils import np_utils\n",
        "\n",
        "# Data Split\n",
        "from sklearn.model_selection import train_test_split\n",
        "\n",
        "# Data Visualization \n",
        "import seaborn as sns\n",
        "import plotly.express as px\n",
        "import matplotlib.pyplot as plt\n",
        "\n",
        "# Model \n",
        "from keras.models import Sequential, load_model\n",
        "from keras.layers import Conv2D, MaxPooling2D, MaxPool2D, BatchNormalization, Flatten, Dropout, Dense, GlobalAvgPool2D\n"
      ]
    },
    {
      "cell_type": "markdown",
      "metadata": {
        "id": "qgFpQVaNRB8W"
      },
      "source": [
        "# **Explore the data**"
      ]
    },
    {
      "cell_type": "markdown",
      "source": [
        "Since we are using Google Colab, we need to link to our drive to load the data"
      ],
      "metadata": {
        "id": "02HKC_d1AYdb"
      }
    },
    {
      "cell_type": "code",
      "source": [
        "from google.colab import drive\n",
        "drive.mount('/content/drive')"
      ],
      "metadata": {
        "colab": {
          "base_uri": "https://localhost:8080/"
        },
        "id": "iLdVkhRpD7mF",
        "outputId": "374bc141-d8d2-42b7-b23b-9e06e0845a31"
      },
      "execution_count": 3,
      "outputs": [
        {
          "output_type": "stream",
          "name": "stdout",
          "text": [
            "Mounted at /content/drive\n"
          ]
        }
      ]
    },
    {
      "cell_type": "code",
      "execution_count": 4,
      "metadata": {
        "trusted": true,
        "id": "gQORdxnMRB8W"
      },
      "outputs": [],
      "source": [
        "# File path\n",
        "file_path = 'drive/MyDrive/LetterRecognition/Colab Notebooks/A_Z Handwritten Data.csv'\n",
        "\n",
        "# Load Data\n",
        "df = pd.read_csv(file_path)"
      ]
    },
    {
      "cell_type": "code",
      "source": [
        "# The shape of the input\n",
        "df.shape\n",
        "# There are 372450 images and each has (785-1) pixels"
      ],
      "metadata": {
        "colab": {
          "base_uri": "https://localhost:8080/"
        },
        "id": "pID9QeyeDD4F",
        "outputId": "9a0a9683-dcfd-4b45-cd2d-c6998e667857"
      },
      "execution_count": 5,
      "outputs": [
        {
          "output_type": "execute_result",
          "data": {
            "text/plain": [
              "(372450, 785)"
            ]
          },
          "metadata": {},
          "execution_count": 5
        }
      ]
    },
    {
      "cell_type": "code",
      "source": [
        "# First 5 rows (the fist column contains labels)\n",
        "df.head()\n",
        "# In this example, the first values in rows are zeros, which mean they are all letter 'A'."
      ],
      "metadata": {
        "colab": {
          "base_uri": "https://localhost:8080/",
          "height": 232
        },
        "id": "tValD3t_C00j",
        "outputId": "42281a29-d624-45ed-c746-dba79441fe77"
      },
      "execution_count": 47,
      "outputs": [
        {
          "output_type": "execute_result",
          "data": {
            "text/plain": [
              "   0.1  0.2  0.3  0.4  0.5  0.6  0.7  0.8  0.9  0.10  ...  0.639  0.640  \\\n",
              "0    0    0    0    0    0    0    0    0    0     0  ...      0      0   \n",
              "1    0    0    0    0    0    0    0    0    0     0  ...      0      0   \n",
              "2    0    0    0    0    0    0    0    0    0     0  ...      0      0   \n",
              "3    0    0    0    0    0    0    0    0    0     0  ...      0      0   \n",
              "4    0    0    0    0    0    0    0    0    0     0  ...      0      0   \n",
              "\n",
              "   0.641  0.642  0.643  0.644  0.645  0.646  0.647  0.648  \n",
              "0      0      0      0      0      0      0      0      0  \n",
              "1      0      0      0      0      0      0      0      0  \n",
              "2      0      0      0      0      0      0      0      0  \n",
              "3      0      0      0      0      0      0      0      0  \n",
              "4      0      0      0      0      0      0      0      0  \n",
              "\n",
              "[5 rows x 784 columns]"
            ],
            "text/html": [
              "\n",
              "  <div id=\"df-bcd7acc7-ead4-401f-adc0-96ec1e45975b\">\n",
              "    <div class=\"colab-df-container\">\n",
              "      <div>\n",
              "<style scoped>\n",
              "    .dataframe tbody tr th:only-of-type {\n",
              "        vertical-align: middle;\n",
              "    }\n",
              "\n",
              "    .dataframe tbody tr th {\n",
              "        vertical-align: top;\n",
              "    }\n",
              "\n",
              "    .dataframe thead th {\n",
              "        text-align: right;\n",
              "    }\n",
              "</style>\n",
              "<table border=\"1\" class=\"dataframe\">\n",
              "  <thead>\n",
              "    <tr style=\"text-align: right;\">\n",
              "      <th></th>\n",
              "      <th>0.1</th>\n",
              "      <th>0.2</th>\n",
              "      <th>0.3</th>\n",
              "      <th>0.4</th>\n",
              "      <th>0.5</th>\n",
              "      <th>0.6</th>\n",
              "      <th>0.7</th>\n",
              "      <th>0.8</th>\n",
              "      <th>0.9</th>\n",
              "      <th>0.10</th>\n",
              "      <th>...</th>\n",
              "      <th>0.639</th>\n",
              "      <th>0.640</th>\n",
              "      <th>0.641</th>\n",
              "      <th>0.642</th>\n",
              "      <th>0.643</th>\n",
              "      <th>0.644</th>\n",
              "      <th>0.645</th>\n",
              "      <th>0.646</th>\n",
              "      <th>0.647</th>\n",
              "      <th>0.648</th>\n",
              "    </tr>\n",
              "  </thead>\n",
              "  <tbody>\n",
              "    <tr>\n",
              "      <th>0</th>\n",
              "      <td>0</td>\n",
              "      <td>0</td>\n",
              "      <td>0</td>\n",
              "      <td>0</td>\n",
              "      <td>0</td>\n",
              "      <td>0</td>\n",
              "      <td>0</td>\n",
              "      <td>0</td>\n",
              "      <td>0</td>\n",
              "      <td>0</td>\n",
              "      <td>...</td>\n",
              "      <td>0</td>\n",
              "      <td>0</td>\n",
              "      <td>0</td>\n",
              "      <td>0</td>\n",
              "      <td>0</td>\n",
              "      <td>0</td>\n",
              "      <td>0</td>\n",
              "      <td>0</td>\n",
              "      <td>0</td>\n",
              "      <td>0</td>\n",
              "    </tr>\n",
              "    <tr>\n",
              "      <th>1</th>\n",
              "      <td>0</td>\n",
              "      <td>0</td>\n",
              "      <td>0</td>\n",
              "      <td>0</td>\n",
              "      <td>0</td>\n",
              "      <td>0</td>\n",
              "      <td>0</td>\n",
              "      <td>0</td>\n",
              "      <td>0</td>\n",
              "      <td>0</td>\n",
              "      <td>...</td>\n",
              "      <td>0</td>\n",
              "      <td>0</td>\n",
              "      <td>0</td>\n",
              "      <td>0</td>\n",
              "      <td>0</td>\n",
              "      <td>0</td>\n",
              "      <td>0</td>\n",
              "      <td>0</td>\n",
              "      <td>0</td>\n",
              "      <td>0</td>\n",
              "    </tr>\n",
              "    <tr>\n",
              "      <th>2</th>\n",
              "      <td>0</td>\n",
              "      <td>0</td>\n",
              "      <td>0</td>\n",
              "      <td>0</td>\n",
              "      <td>0</td>\n",
              "      <td>0</td>\n",
              "      <td>0</td>\n",
              "      <td>0</td>\n",
              "      <td>0</td>\n",
              "      <td>0</td>\n",
              "      <td>...</td>\n",
              "      <td>0</td>\n",
              "      <td>0</td>\n",
              "      <td>0</td>\n",
              "      <td>0</td>\n",
              "      <td>0</td>\n",
              "      <td>0</td>\n",
              "      <td>0</td>\n",
              "      <td>0</td>\n",
              "      <td>0</td>\n",
              "      <td>0</td>\n",
              "    </tr>\n",
              "    <tr>\n",
              "      <th>3</th>\n",
              "      <td>0</td>\n",
              "      <td>0</td>\n",
              "      <td>0</td>\n",
              "      <td>0</td>\n",
              "      <td>0</td>\n",
              "      <td>0</td>\n",
              "      <td>0</td>\n",
              "      <td>0</td>\n",
              "      <td>0</td>\n",
              "      <td>0</td>\n",
              "      <td>...</td>\n",
              "      <td>0</td>\n",
              "      <td>0</td>\n",
              "      <td>0</td>\n",
              "      <td>0</td>\n",
              "      <td>0</td>\n",
              "      <td>0</td>\n",
              "      <td>0</td>\n",
              "      <td>0</td>\n",
              "      <td>0</td>\n",
              "      <td>0</td>\n",
              "    </tr>\n",
              "    <tr>\n",
              "      <th>4</th>\n",
              "      <td>0</td>\n",
              "      <td>0</td>\n",
              "      <td>0</td>\n",
              "      <td>0</td>\n",
              "      <td>0</td>\n",
              "      <td>0</td>\n",
              "      <td>0</td>\n",
              "      <td>0</td>\n",
              "      <td>0</td>\n",
              "      <td>0</td>\n",
              "      <td>...</td>\n",
              "      <td>0</td>\n",
              "      <td>0</td>\n",
              "      <td>0</td>\n",
              "      <td>0</td>\n",
              "      <td>0</td>\n",
              "      <td>0</td>\n",
              "      <td>0</td>\n",
              "      <td>0</td>\n",
              "      <td>0</td>\n",
              "      <td>0</td>\n",
              "    </tr>\n",
              "  </tbody>\n",
              "</table>\n",
              "<p>5 rows × 784 columns</p>\n",
              "</div>\n",
              "      <button class=\"colab-df-convert\" onclick=\"convertToInteractive('df-bcd7acc7-ead4-401f-adc0-96ec1e45975b')\"\n",
              "              title=\"Convert this dataframe to an interactive table.\"\n",
              "              style=\"display:none;\">\n",
              "        \n",
              "  <svg xmlns=\"http://www.w3.org/2000/svg\" height=\"24px\"viewBox=\"0 0 24 24\"\n",
              "       width=\"24px\">\n",
              "    <path d=\"M0 0h24v24H0V0z\" fill=\"none\"/>\n",
              "    <path d=\"M18.56 5.44l.94 2.06.94-2.06 2.06-.94-2.06-.94-.94-2.06-.94 2.06-2.06.94zm-11 1L8.5 8.5l.94-2.06 2.06-.94-2.06-.94L8.5 2.5l-.94 2.06-2.06.94zm10 10l.94 2.06.94-2.06 2.06-.94-2.06-.94-.94-2.06-.94 2.06-2.06.94z\"/><path d=\"M17.41 7.96l-1.37-1.37c-.4-.4-.92-.59-1.43-.59-.52 0-1.04.2-1.43.59L10.3 9.45l-7.72 7.72c-.78.78-.78 2.05 0 2.83L4 21.41c.39.39.9.59 1.41.59.51 0 1.02-.2 1.41-.59l7.78-7.78 2.81-2.81c.8-.78.8-2.07 0-2.86zM5.41 20L4 18.59l7.72-7.72 1.47 1.35L5.41 20z\"/>\n",
              "  </svg>\n",
              "      </button>\n",
              "      \n",
              "  <style>\n",
              "    .colab-df-container {\n",
              "      display:flex;\n",
              "      flex-wrap:wrap;\n",
              "      gap: 12px;\n",
              "    }\n",
              "\n",
              "    .colab-df-convert {\n",
              "      background-color: #E8F0FE;\n",
              "      border: none;\n",
              "      border-radius: 50%;\n",
              "      cursor: pointer;\n",
              "      display: none;\n",
              "      fill: #1967D2;\n",
              "      height: 32px;\n",
              "      padding: 0 0 0 0;\n",
              "      width: 32px;\n",
              "    }\n",
              "\n",
              "    .colab-df-convert:hover {\n",
              "      background-color: #E2EBFA;\n",
              "      box-shadow: 0px 1px 2px rgba(60, 64, 67, 0.3), 0px 1px 3px 1px rgba(60, 64, 67, 0.15);\n",
              "      fill: #174EA6;\n",
              "    }\n",
              "\n",
              "    [theme=dark] .colab-df-convert {\n",
              "      background-color: #3B4455;\n",
              "      fill: #D2E3FC;\n",
              "    }\n",
              "\n",
              "    [theme=dark] .colab-df-convert:hover {\n",
              "      background-color: #434B5C;\n",
              "      box-shadow: 0px 1px 3px 1px rgba(0, 0, 0, 0.15);\n",
              "      filter: drop-shadow(0px 1px 2px rgba(0, 0, 0, 0.3));\n",
              "      fill: #FFFFFF;\n",
              "    }\n",
              "  </style>\n",
              "\n",
              "      <script>\n",
              "        const buttonEl =\n",
              "          document.querySelector('#df-bcd7acc7-ead4-401f-adc0-96ec1e45975b button.colab-df-convert');\n",
              "        buttonEl.style.display =\n",
              "          google.colab.kernel.accessAllowed ? 'block' : 'none';\n",
              "\n",
              "        async function convertToInteractive(key) {\n",
              "          const element = document.querySelector('#df-bcd7acc7-ead4-401f-adc0-96ec1e45975b');\n",
              "          const dataTable =\n",
              "            await google.colab.kernel.invokeFunction('convertToInteractive',\n",
              "                                                     [key], {});\n",
              "          if (!dataTable) return;\n",
              "\n",
              "          const docLinkHtml = 'Like what you see? Visit the ' +\n",
              "            '<a target=\"_blank\" href=https://colab.research.google.com/notebooks/data_table.ipynb>data table notebook</a>'\n",
              "            + ' to learn more about interactive tables.';\n",
              "          element.innerHTML = '';\n",
              "          dataTable['output_type'] = 'display_data';\n",
              "          await google.colab.output.renderOutput(dataTable, element);\n",
              "          const docLink = document.createElement('div');\n",
              "          docLink.innerHTML = docLinkHtml;\n",
              "          element.appendChild(docLink);\n",
              "        }\n",
              "      </script>\n",
              "    </div>\n",
              "  </div>\n",
              "  "
            ]
          },
          "metadata": {},
          "execution_count": 47
        },
        {
          "output_type": "stream",
          "name": "stdout",
          "text": [
            "Warning: Total number of columns (784) exceeds max_columns (20) limiting to first (20) columns.\n"
          ]
        }
      ]
    },
    {
      "cell_type": "code",
      "source": [
        "# Last 5 rows\n",
        "df.tail()\n",
        "# The first values are 25 among the tail rows, which mean they are all letter 'Z'."
      ],
      "metadata": {
        "colab": {
          "base_uri": "https://localhost:8080/",
          "height": 232
        },
        "id": "fwiKee9eDdar",
        "outputId": "f3a60478-0265-4bb4-c8ce-364a2d9a9595"
      },
      "execution_count": 7,
      "outputs": [
        {
          "output_type": "execute_result",
          "data": {
            "text/plain": [
              "         0  0.1  0.2  0.3  0.4  0.5  0.6  0.7  0.8  0.9  ...  0.639  0.640  \\\n",
              "372445  25    0    0    0    0    0    0    0    0    0  ...      0      0   \n",
              "372446  25    0    0    0    0    0    0    0    0    0  ...      0      0   \n",
              "372447  25    0    0    0    0    0    0    0    0    0  ...      0      0   \n",
              "372448  25    0    0    0    0    0    0    0    0    0  ...      0      0   \n",
              "372449  25    0    0    0    0    0    0    0    0    0  ...      0      0   \n",
              "\n",
              "        0.641  0.642  0.643  0.644  0.645  0.646  0.647  0.648  \n",
              "372445      0      0      0      0      0      0      0      0  \n",
              "372446      0      0      0      0      0      0      0      0  \n",
              "372447      0      0      0      0      0      0      0      0  \n",
              "372448      0      0      0      0      0      0      0      0  \n",
              "372449      0      0      0      0      0      0      0      0  \n",
              "\n",
              "[5 rows x 785 columns]"
            ],
            "text/html": [
              "\n",
              "  <div id=\"df-3400c159-0aca-400b-8663-f11a15058938\">\n",
              "    <div class=\"colab-df-container\">\n",
              "      <div>\n",
              "<style scoped>\n",
              "    .dataframe tbody tr th:only-of-type {\n",
              "        vertical-align: middle;\n",
              "    }\n",
              "\n",
              "    .dataframe tbody tr th {\n",
              "        vertical-align: top;\n",
              "    }\n",
              "\n",
              "    .dataframe thead th {\n",
              "        text-align: right;\n",
              "    }\n",
              "</style>\n",
              "<table border=\"1\" class=\"dataframe\">\n",
              "  <thead>\n",
              "    <tr style=\"text-align: right;\">\n",
              "      <th></th>\n",
              "      <th>0</th>\n",
              "      <th>0.1</th>\n",
              "      <th>0.2</th>\n",
              "      <th>0.3</th>\n",
              "      <th>0.4</th>\n",
              "      <th>0.5</th>\n",
              "      <th>0.6</th>\n",
              "      <th>0.7</th>\n",
              "      <th>0.8</th>\n",
              "      <th>0.9</th>\n",
              "      <th>...</th>\n",
              "      <th>0.639</th>\n",
              "      <th>0.640</th>\n",
              "      <th>0.641</th>\n",
              "      <th>0.642</th>\n",
              "      <th>0.643</th>\n",
              "      <th>0.644</th>\n",
              "      <th>0.645</th>\n",
              "      <th>0.646</th>\n",
              "      <th>0.647</th>\n",
              "      <th>0.648</th>\n",
              "    </tr>\n",
              "  </thead>\n",
              "  <tbody>\n",
              "    <tr>\n",
              "      <th>372445</th>\n",
              "      <td>25</td>\n",
              "      <td>0</td>\n",
              "      <td>0</td>\n",
              "      <td>0</td>\n",
              "      <td>0</td>\n",
              "      <td>0</td>\n",
              "      <td>0</td>\n",
              "      <td>0</td>\n",
              "      <td>0</td>\n",
              "      <td>0</td>\n",
              "      <td>...</td>\n",
              "      <td>0</td>\n",
              "      <td>0</td>\n",
              "      <td>0</td>\n",
              "      <td>0</td>\n",
              "      <td>0</td>\n",
              "      <td>0</td>\n",
              "      <td>0</td>\n",
              "      <td>0</td>\n",
              "      <td>0</td>\n",
              "      <td>0</td>\n",
              "    </tr>\n",
              "    <tr>\n",
              "      <th>372446</th>\n",
              "      <td>25</td>\n",
              "      <td>0</td>\n",
              "      <td>0</td>\n",
              "      <td>0</td>\n",
              "      <td>0</td>\n",
              "      <td>0</td>\n",
              "      <td>0</td>\n",
              "      <td>0</td>\n",
              "      <td>0</td>\n",
              "      <td>0</td>\n",
              "      <td>...</td>\n",
              "      <td>0</td>\n",
              "      <td>0</td>\n",
              "      <td>0</td>\n",
              "      <td>0</td>\n",
              "      <td>0</td>\n",
              "      <td>0</td>\n",
              "      <td>0</td>\n",
              "      <td>0</td>\n",
              "      <td>0</td>\n",
              "      <td>0</td>\n",
              "    </tr>\n",
              "    <tr>\n",
              "      <th>372447</th>\n",
              "      <td>25</td>\n",
              "      <td>0</td>\n",
              "      <td>0</td>\n",
              "      <td>0</td>\n",
              "      <td>0</td>\n",
              "      <td>0</td>\n",
              "      <td>0</td>\n",
              "      <td>0</td>\n",
              "      <td>0</td>\n",
              "      <td>0</td>\n",
              "      <td>...</td>\n",
              "      <td>0</td>\n",
              "      <td>0</td>\n",
              "      <td>0</td>\n",
              "      <td>0</td>\n",
              "      <td>0</td>\n",
              "      <td>0</td>\n",
              "      <td>0</td>\n",
              "      <td>0</td>\n",
              "      <td>0</td>\n",
              "      <td>0</td>\n",
              "    </tr>\n",
              "    <tr>\n",
              "      <th>372448</th>\n",
              "      <td>25</td>\n",
              "      <td>0</td>\n",
              "      <td>0</td>\n",
              "      <td>0</td>\n",
              "      <td>0</td>\n",
              "      <td>0</td>\n",
              "      <td>0</td>\n",
              "      <td>0</td>\n",
              "      <td>0</td>\n",
              "      <td>0</td>\n",
              "      <td>...</td>\n",
              "      <td>0</td>\n",
              "      <td>0</td>\n",
              "      <td>0</td>\n",
              "      <td>0</td>\n",
              "      <td>0</td>\n",
              "      <td>0</td>\n",
              "      <td>0</td>\n",
              "      <td>0</td>\n",
              "      <td>0</td>\n",
              "      <td>0</td>\n",
              "    </tr>\n",
              "    <tr>\n",
              "      <th>372449</th>\n",
              "      <td>25</td>\n",
              "      <td>0</td>\n",
              "      <td>0</td>\n",
              "      <td>0</td>\n",
              "      <td>0</td>\n",
              "      <td>0</td>\n",
              "      <td>0</td>\n",
              "      <td>0</td>\n",
              "      <td>0</td>\n",
              "      <td>0</td>\n",
              "      <td>...</td>\n",
              "      <td>0</td>\n",
              "      <td>0</td>\n",
              "      <td>0</td>\n",
              "      <td>0</td>\n",
              "      <td>0</td>\n",
              "      <td>0</td>\n",
              "      <td>0</td>\n",
              "      <td>0</td>\n",
              "      <td>0</td>\n",
              "      <td>0</td>\n",
              "    </tr>\n",
              "  </tbody>\n",
              "</table>\n",
              "<p>5 rows × 785 columns</p>\n",
              "</div>\n",
              "      <button class=\"colab-df-convert\" onclick=\"convertToInteractive('df-3400c159-0aca-400b-8663-f11a15058938')\"\n",
              "              title=\"Convert this dataframe to an interactive table.\"\n",
              "              style=\"display:none;\">\n",
              "        \n",
              "  <svg xmlns=\"http://www.w3.org/2000/svg\" height=\"24px\"viewBox=\"0 0 24 24\"\n",
              "       width=\"24px\">\n",
              "    <path d=\"M0 0h24v24H0V0z\" fill=\"none\"/>\n",
              "    <path d=\"M18.56 5.44l.94 2.06.94-2.06 2.06-.94-2.06-.94-.94-2.06-.94 2.06-2.06.94zm-11 1L8.5 8.5l.94-2.06 2.06-.94-2.06-.94L8.5 2.5l-.94 2.06-2.06.94zm10 10l.94 2.06.94-2.06 2.06-.94-2.06-.94-.94-2.06-.94 2.06-2.06.94z\"/><path d=\"M17.41 7.96l-1.37-1.37c-.4-.4-.92-.59-1.43-.59-.52 0-1.04.2-1.43.59L10.3 9.45l-7.72 7.72c-.78.78-.78 2.05 0 2.83L4 21.41c.39.39.9.59 1.41.59.51 0 1.02-.2 1.41-.59l7.78-7.78 2.81-2.81c.8-.78.8-2.07 0-2.86zM5.41 20L4 18.59l7.72-7.72 1.47 1.35L5.41 20z\"/>\n",
              "  </svg>\n",
              "      </button>\n",
              "      \n",
              "  <style>\n",
              "    .colab-df-container {\n",
              "      display:flex;\n",
              "      flex-wrap:wrap;\n",
              "      gap: 12px;\n",
              "    }\n",
              "\n",
              "    .colab-df-convert {\n",
              "      background-color: #E8F0FE;\n",
              "      border: none;\n",
              "      border-radius: 50%;\n",
              "      cursor: pointer;\n",
              "      display: none;\n",
              "      fill: #1967D2;\n",
              "      height: 32px;\n",
              "      padding: 0 0 0 0;\n",
              "      width: 32px;\n",
              "    }\n",
              "\n",
              "    .colab-df-convert:hover {\n",
              "      background-color: #E2EBFA;\n",
              "      box-shadow: 0px 1px 2px rgba(60, 64, 67, 0.3), 0px 1px 3px 1px rgba(60, 64, 67, 0.15);\n",
              "      fill: #174EA6;\n",
              "    }\n",
              "\n",
              "    [theme=dark] .colab-df-convert {\n",
              "      background-color: #3B4455;\n",
              "      fill: #D2E3FC;\n",
              "    }\n",
              "\n",
              "    [theme=dark] .colab-df-convert:hover {\n",
              "      background-color: #434B5C;\n",
              "      box-shadow: 0px 1px 3px 1px rgba(0, 0, 0, 0.15);\n",
              "      filter: drop-shadow(0px 1px 2px rgba(0, 0, 0, 0.3));\n",
              "      fill: #FFFFFF;\n",
              "    }\n",
              "  </style>\n",
              "\n",
              "      <script>\n",
              "        const buttonEl =\n",
              "          document.querySelector('#df-3400c159-0aca-400b-8663-f11a15058938 button.colab-df-convert');\n",
              "        buttonEl.style.display =\n",
              "          google.colab.kernel.accessAllowed ? 'block' : 'none';\n",
              "\n",
              "        async function convertToInteractive(key) {\n",
              "          const element = document.querySelector('#df-3400c159-0aca-400b-8663-f11a15058938');\n",
              "          const dataTable =\n",
              "            await google.colab.kernel.invokeFunction('convertToInteractive',\n",
              "                                                     [key], {});\n",
              "          if (!dataTable) return;\n",
              "\n",
              "          const docLinkHtml = 'Like what you see? Visit the ' +\n",
              "            '<a target=\"_blank\" href=https://colab.research.google.com/notebooks/data_table.ipynb>data table notebook</a>'\n",
              "            + ' to learn more about interactive tables.';\n",
              "          element.innerHTML = '';\n",
              "          dataTable['output_type'] = 'display_data';\n",
              "          await google.colab.output.renderOutput(dataTable, element);\n",
              "          const docLink = document.createElement('div');\n",
              "          docLink.innerHTML = docLinkHtml;\n",
              "          element.appendChild(docLink);\n",
              "        }\n",
              "      </script>\n",
              "    </div>\n",
              "  </div>\n",
              "  "
            ]
          },
          "metadata": {},
          "execution_count": 7
        },
        {
          "output_type": "stream",
          "name": "stdout",
          "text": [
            "Warning: Total number of columns (785) exceeds max_columns (20) limiting to first (20) columns.\n"
          ]
        }
      ]
    },
    {
      "cell_type": "markdown",
      "source": [
        "## **check balance**"
      ],
      "metadata": {
        "id": "zH-LxVEDNSSH"
      }
    },
    {
      "cell_type": "code",
      "source": [
        "# Get the labels\n",
        "y = df.pop('0')\n"
      ],
      "metadata": {
        "id": "dNXEnAOaEcrI"
      },
      "execution_count": 8,
      "outputs": []
    },
    {
      "cell_type": "markdown",
      "metadata": {
        "id": "h0TZFTTmRB8W"
      },
      "source": []
    },
    {
      "cell_type": "code",
      "execution_count": 9,
      "metadata": {
        "trusted": true,
        "id": "8yyIhkAMRB8W"
      },
      "outputs": [],
      "source": [
        "y_mapped = y.replace([0,1,2,3,4,5,6,7,8,9,10,11,12,13,14,15,16,17,18,19,20,21,22,23,24,25], ['A', 'B', 'C', 'D', 'E', 'F', 'G', 'H', 'I', 'J', 'K', 'L', 'M',\n",
        "'N', 'O', 'P', 'Q', 'R', 'S', 'T', 'U', 'V', 'W', 'X', 'Y', 'Z'])"
      ]
    },
    {
      "cell_type": "code",
      "source": [
        "# After mapping\n",
        "y_mapped"
      ],
      "metadata": {
        "colab": {
          "base_uri": "https://localhost:8080/"
        },
        "id": "0g0mR_3pJjlG",
        "outputId": "5ed2ae95-6528-42de-a8df-504256e000dc"
      },
      "execution_count": 10,
      "outputs": [
        {
          "output_type": "execute_result",
          "data": {
            "text/plain": [
              "0         A\n",
              "1         A\n",
              "2         A\n",
              "3         A\n",
              "4         A\n",
              "         ..\n",
              "372445    Z\n",
              "372446    Z\n",
              "372447    Z\n",
              "372448    Z\n",
              "372449    Z\n",
              "Name: 0, Length: 372450, dtype: object"
            ]
          },
          "metadata": {},
          "execution_count": 10
        }
      ]
    },
    {
      "cell_type": "code",
      "execution_count": 11,
      "metadata": {
        "trusted": true,
        "colab": {
          "base_uri": "https://localhost:8080/",
          "height": 462
        },
        "id": "I6EKAfAjRB8W",
        "outputId": "5dc026b8-af85-4b88-f4cc-dcbc9d04666f"
      },
      "outputs": [
        {
          "output_type": "stream",
          "name": "stderr",
          "text": [
            "/usr/local/lib/python3.8/dist-packages/seaborn/_decorators.py:36: FutureWarning: Pass the following variable as a keyword arg: x. From version 0.12, the only valid positional argument will be `data`, and passing other arguments without an explicit keyword will result in an error or misinterpretation.\n",
            "  warnings.warn(\n"
          ]
        },
        {
          "output_type": "execute_result",
          "data": {
            "text/plain": [
              "<matplotlib.axes._subplots.AxesSubplot at 0x7fa3f046cb80>"
            ]
          },
          "metadata": {},
          "execution_count": 11
        },
        {
          "output_type": "display_data",
          "data": {
            "text/plain": [
              "<Figure size 864x432 with 1 Axes>"
            ],
            "image/png": "[encoded data removed]"
          },
          "metadata": {
            "needs_background": "light"
          }
        }
      ],
      "source": [
        "# df['class'].map(class_mapping).unique()\n",
        "plt.figure(figsize = (12,6))\n",
        "sns.countplot(y_mapped)"
      ]
    },
    {
      "cell_type": "markdown",
      "source": [
        "Since the data is not well balanced, we need to balance the dataset first before split and train the data."
      ],
      "metadata": {
        "id": "mjxs4xtSLqQq"
      }
    },
    {
      "cell_type": "markdown",
      "source": [
        "# **Data processing**"
      ],
      "metadata": {
        "id": "ES83m8DtESwh"
      }
    },
    {
      "cell_type": "markdown",
      "source": [
        "Balance first"
      ],
      "metadata": {
        "id": "w-GzE86_aCa7"
      }
    },
    {
      "cell_type": "code",
      "source": [
        "nm = NearMiss()\n",
        "X_data, y_data = nm.fit_resample(df, y)"
      ],
      "metadata": {
        "id": "kjeNp15DZWal"
      },
      "execution_count": 12,
      "outputs": []
    },
    {
      "cell_type": "code",
      "source": [
        "# Visualize again\n",
        "y_data_mapped = y_data.replace([0,1,2,3,4,5,6,7,8,9,10,11,12,13,14,15,16,17,18,19,20,21,22,23,24,25], ['A', 'B', 'C', 'D', 'E', 'F', 'G', 'H', 'I', 'J', 'K', 'L', 'M',\n",
        "'N', 'O', 'P', 'Q', 'R', 'S', 'T', 'U', 'V', 'W', 'X', 'Y', 'Z'])\n",
        "plt.figure(figsize = (12,6))\n",
        "sns.countplot(y_data_mapped)"
      ],
      "metadata": {
        "colab": {
          "base_uri": "https://localhost:8080/",
          "height": 462
        },
        "id": "FuhXzR6GZv5g",
        "outputId": "879c1f85-86a0-41a9-95d7-a78fcee6b088"
      },
      "execution_count": 13,
      "outputs": [
        {
          "output_type": "stream",
          "name": "stderr",
          "text": [
            "/usr/local/lib/python3.8/dist-packages/seaborn/_decorators.py:36: FutureWarning: Pass the following variable as a keyword arg: x. From version 0.12, the only valid positional argument will be `data`, and passing other arguments without an explicit keyword will result in an error or misinterpretation.\n",
            "  warnings.warn(\n"
          ]
        },
        {
          "output_type": "execute_result",
          "data": {
            "text/plain": [
              "<matplotlib.axes._subplots.AxesSubplot at 0x7fa3f24e7100>"
            ]
          },
          "metadata": {},
          "execution_count": 13
        },
        {
          "output_type": "display_data",
          "data": {
            "text/plain": [
              "<Figure size 864x432 with 1 Axes>"
            ],
            "image/png": "[encoded data removed]"
          },
          "metadata": {
            "needs_background": "light"
          }
        }
      ]
    },
    {
      "cell_type": "markdown",
      "source": [
        "Split and prepare for training"
      ],
      "metadata": {
        "id": "WofBVh4UamTh"
      }
    },
    {
      "cell_type": "code",
      "source": [
        "y_data.shape, X_data.shape"
      ],
      "metadata": {
        "colab": {
          "base_uri": "https://localhost:8080/"
        },
        "id": "OhuddOsjbbil",
        "outputId": "c4df4461-08cf-41aa-c428-e634f7b9a688"
      },
      "execution_count": 14,
      "outputs": [
        {
          "output_type": "execute_result",
          "data": {
            "text/plain": [
              "((29120,), (29120, 784))"
            ]
          },
          "metadata": {},
          "execution_count": 14
        }
      ]
    },
    {
      "cell_type": "code",
      "execution_count": 15,
      "metadata": {
        "trusted": true,
        "id": "iiAFhHeARB8Y"
      },
      "outputs": [],
      "source": [
        "X_data = X_data.to_numpy().reshape(-1,28,28, 1)"
      ]
    },
    {
      "cell_type": "code",
      "execution_count": 16,
      "metadata": {
        "trusted": true,
        "id": "qkqbKDB0RB8Y"
      },
      "outputs": [],
      "source": [
        "# Random_state is used to control the split result across different executions\n",
        "X_train_val, X_test, y_train_val, y_test = train_test_split(\n",
        "    X_data, y_data,   \n",
        "    test_size = 0.07, random_state=10, shuffle=True, stratify=y_data\n",
        ")"
      ]
    },
    {
      "cell_type": "code",
      "execution_count": 17,
      "metadata": {
        "trusted": true,
        "id": "p_o-UCiRRB8Y"
      },
      "outputs": [],
      "source": [
        "X_train, X_valid, y_train, y_valid = train_test_split(X_train_val, y_train_val, test_size=0.15)"
      ]
    },
    {
      "cell_type": "markdown",
      "source": [
        "It seems that we don't need to use One-Hot-Encoding on labels to train the model. However, we do need to use argmax() function when predicting the test data."
      ],
      "metadata": {
        "id": "XGdpwpqkojPV"
      }
    },
    {
      "cell_type": "markdown",
      "metadata": {
        "id": "97Y8J7xJRB8Y"
      },
      "source": [
        "# **Data Visualization**"
      ]
    },
    {
      "cell_type": "code",
      "execution_count": 46,
      "metadata": {
        "_kg_hide-input": true,
        "trusted": true,
        "colab": {
          "base_uri": "https://localhost:8080/",
          "height": 365
        },
        "id": "ONokW-iWRB8Y",
        "outputId": "c1e689cc-8439-4537-b9cb-34f231ac088a"
      },
      "outputs": [
        {
          "output_type": "display_data",
          "data": {
            "text/plain": [
              "<Figure size 360x360 with 4 Axes>"
            ],
            "image/png": "[encoded data removed]"
          },
          "metadata": {
            "needs_background": "light"
          }
        }
      ],
      "source": [
        "\n",
        "figure, grid = plt.subplots(2,2)\n",
        "figure.set_size_inches(5,5)\n",
        "ind = 0\n",
        "for i in range(2):\n",
        "    for j in range(2):\n",
        "        image = X_data[ind].reshape(28,28)\n",
        "        grid[i,j].imshow(image, cmap='binary')\n",
        "        ind += 1\n",
        "    plt.tight_layout()\n"
      ]
    },
    {
      "cell_type": "markdown",
      "metadata": {
        "id": "PWtjfFr7RB8Y"
      },
      "source": [
        "# Model"
      ]
    },
    {
      "cell_type": "markdown",
      "source": [
        "### model1"
      ],
      "metadata": {
        "id": "cuE5LfKcEouV"
      }
    },
    {
      "cell_type": "code",
      "source": [
        "# Model 1 with \n",
        "batch_size = 32\n",
        "model1_1 = Sequential([\n",
        "    Conv2D(32, kernel_size=3, strides=2, padding='same', kernel_initializer='he_normal', input_shape=(28, 28, 1)),\n",
        "    MaxPool2D(),\n",
        "    GlobalAvgPool2D(),\n",
        "    Dense(32, activation='relu'),\n",
        "    Dense(26, activation='sigmoid')\n",
        "])\n",
        "# Compile\n",
        "model1_1.compile(\n",
        "    loss='sparse_categorical_crossentropy',\n",
        "    optimizer='adam',\n",
        "    metrics=['accuracy']\n",
        ")\n",
        "history1_1 = model1_1.fit(\n",
        "      X_train, y_train,\n",
        "      batch_size=batch_size,\n",
        "      epochs=60,\n",
        "      validation_data=(X_valid, y_valid),\n",
        "      shuffle=True\n",
        "    )\n",
        "\n",
        "plt.figure(1)\n",
        "plt.plot(history1_1.history['loss'])\n",
        "plt.plot(history1_1.history['val_loss'])\n",
        "plt.legend(['training','validation'])\n",
        "plt.title('LOSS')\n",
        "plt.xlabel('epochs')\n",
        "\n",
        "plt.figure(2)\n",
        "plt.plot(history1_1.history['accuracy'])\n",
        "plt.plot(history1_1.history['val_accuracy'])\n",
        "plt.legend(['training','validation'])\n",
        "plt.title('ACCURACY')\n",
        "plt.xlabel('epochs')\n",
        "plt.show()\n",
        "\n",
        "model1_1.evaluate(X_test,y_test)\n",
        "\n"
      ],
      "metadata": {
        "colab": {
          "base_uri": "https://localhost:8080/",
          "height": 1000
        },
        "id": "gywe2_ypRm2f",
        "outputId": "28950bbd-f6ac-4c1b-91d3-b28ef2bc6243"
      },
      "execution_count": 46,
      "outputs": [
        {
          "output_type": "stream",
          "name": "stdout",
          "text": [
            "Epoch 1/60\n",
            "720/720 [==============================] - 7s 9ms/step - loss: 8.1002 - accuracy: 0.0668 - val_loss: 3.5632 - val_accuracy: 0.0793\n",
            "Epoch 2/60\n",
            "720/720 [==============================] - 6s 8ms/step - loss: 3.1016 - accuracy: 0.1278 - val_loss: 2.7994 - val_accuracy: 0.1647\n",
            "Epoch 3/60\n",
            "720/720 [==============================] - 6s 9ms/step - loss: 2.6131 - accuracy: 0.1968 - val_loss: 2.4727 - val_accuracy: 0.2134\n",
            "Epoch 4/60\n",
            "720/720 [==============================] - 6s 9ms/step - loss: 2.3977 - accuracy: 0.2435 - val_loss: 2.3585 - val_accuracy: 0.2498\n",
            "Epoch 5/60\n",
            "720/720 [==============================] - 8s 12ms/step - loss: 2.2460 - accuracy: 0.2865 - val_loss: 2.1956 - val_accuracy: 0.2953\n",
            "Epoch 6/60\n",
            "720/720 [==============================] - 6s 9ms/step - loss: 2.1312 - accuracy: 0.3262 - val_loss: 2.0451 - val_accuracy: 0.3443\n",
            "Epoch 7/60\n",
            "720/720 [==============================] - 6s 9ms/step - loss: 2.0385 - accuracy: 0.3503 - val_loss: 1.9613 - val_accuracy: 0.3702\n",
            "Epoch 8/60\n",
            "720/720 [==============================] - 6s 9ms/step - loss: 1.9486 - accuracy: 0.3760 - val_loss: 1.8898 - val_accuracy: 0.3958\n",
            "Epoch 9/60\n",
            "720/720 [==============================] - 7s 9ms/step - loss: 1.8786 - accuracy: 0.3989 - val_loss: 1.8701 - val_accuracy: 0.3916\n",
            "Epoch 10/60\n",
            "720/720 [==============================] - 6s 9ms/step - loss: 1.8317 - accuracy: 0.4097 - val_loss: 1.8868 - val_accuracy: 0.3911\n",
            "Epoch 11/60\n",
            "720/720 [==============================] - 6s 9ms/step - loss: 1.7778 - accuracy: 0.4270 - val_loss: 1.7469 - val_accuracy: 0.4423\n",
            "Epoch 12/60\n",
            "720/720 [==============================] - 6s 8ms/step - loss: 1.7360 - accuracy: 0.4412 - val_loss: 1.7122 - val_accuracy: 0.4457\n",
            "Epoch 13/60\n",
            "720/720 [==============================] - 6s 9ms/step - loss: 1.6958 - accuracy: 0.4543 - val_loss: 1.6842 - val_accuracy: 0.4578\n",
            "Epoch 14/60\n",
            "720/720 [==============================] - 6s 9ms/step - loss: 1.6498 - accuracy: 0.4642 - val_loss: 1.6948 - val_accuracy: 0.4398\n",
            "Epoch 15/60\n",
            "720/720 [==============================] - 8s 11ms/step - loss: 1.6175 - accuracy: 0.4786 - val_loss: 1.6134 - val_accuracy: 0.4775\n",
            "Epoch 16/60\n",
            "720/720 [==============================] - 6s 9ms/step - loss: 1.5869 - accuracy: 0.4867 - val_loss: 1.5826 - val_accuracy: 0.4814\n",
            "Epoch 17/60\n",
            "720/720 [==============================] - 6s 9ms/step - loss: 1.5707 - accuracy: 0.4929 - val_loss: 1.5810 - val_accuracy: 0.4829\n",
            "Epoch 18/60\n",
            "720/720 [==============================] - 6s 8ms/step - loss: 1.5501 - accuracy: 0.5030 - val_loss: 1.5937 - val_accuracy: 0.4868\n",
            "Epoch 19/60\n",
            "720/720 [==============================] - 6s 8ms/step - loss: 1.5300 - accuracy: 0.5053 - val_loss: 1.5407 - val_accuracy: 0.5028\n",
            "Epoch 20/60\n",
            "720/720 [==============================] - 6s 9ms/step - loss: 1.5109 - accuracy: 0.5112 - val_loss: 1.5520 - val_accuracy: 0.4974\n",
            "Epoch 21/60\n",
            "720/720 [==============================] - 6s 8ms/step - loss: 1.4903 - accuracy: 0.5178 - val_loss: 1.4910 - val_accuracy: 0.5154\n",
            "Epoch 22/60\n",
            "720/720 [==============================] - 6s 9ms/step - loss: 1.4846 - accuracy: 0.5190 - val_loss: 1.5035 - val_accuracy: 0.5146\n",
            "Epoch 23/60\n",
            "720/720 [==============================] - 6s 8ms/step - loss: 1.4762 - accuracy: 0.5247 - val_loss: 1.5212 - val_accuracy: 0.5110\n",
            "Epoch 24/60\n",
            "720/720 [==============================] - 6s 8ms/step - loss: 1.4546 - accuracy: 0.5289 - val_loss: 1.4474 - val_accuracy: 0.5343\n",
            "Epoch 25/60\n",
            "720/720 [==============================] - 6s 9ms/step - loss: 1.4442 - accuracy: 0.5368 - val_loss: 1.5165 - val_accuracy: 0.5055\n",
            "Epoch 26/60\n",
            "720/720 [==============================] - 6s 9ms/step - loss: 1.4338 - accuracy: 0.5346 - val_loss: 1.4510 - val_accuracy: 0.5272\n",
            "Epoch 27/60\n",
            "720/720 [==============================] - 6s 8ms/step - loss: 1.4186 - accuracy: 0.5411 - val_loss: 1.4225 - val_accuracy: 0.5425\n",
            "Epoch 28/60\n",
            "720/720 [==============================] - 6s 9ms/step - loss: 1.4140 - accuracy: 0.5424 - val_loss: 1.4513 - val_accuracy: 0.5260\n",
            "Epoch 29/60\n",
            "720/720 [==============================] - 6s 9ms/step - loss: 1.4025 - accuracy: 0.5454 - val_loss: 1.4248 - val_accuracy: 0.5267\n",
            "Epoch 30/60\n",
            "720/720 [==============================] - 6s 9ms/step - loss: 1.3891 - accuracy: 0.5516 - val_loss: 1.3917 - val_accuracy: 0.5471\n",
            "Epoch 31/60\n",
            "720/720 [==============================] - 6s 8ms/step - loss: 1.3867 - accuracy: 0.5513 - val_loss: 1.4085 - val_accuracy: 0.5393\n",
            "Epoch 32/60\n",
            "720/720 [==============================] - 6s 9ms/step - loss: 1.3752 - accuracy: 0.5552 - val_loss: 1.3822 - val_accuracy: 0.5464\n",
            "Epoch 33/60\n",
            "720/720 [==============================] - 6s 8ms/step - loss: 1.3626 - accuracy: 0.5624 - val_loss: 1.3805 - val_accuracy: 0.5523\n",
            "Epoch 34/60\n",
            "720/720 [==============================] - 6s 8ms/step - loss: 1.3584 - accuracy: 0.5632 - val_loss: 1.3828 - val_accuracy: 0.5471\n",
            "Epoch 35/60\n",
            "720/720 [==============================] - 6s 9ms/step - loss: 1.3495 - accuracy: 0.5649 - val_loss: 1.3943 - val_accuracy: 0.5496\n",
            "Epoch 36/60\n",
            "720/720 [==============================] - 6s 8ms/step - loss: 1.3495 - accuracy: 0.5614 - val_loss: 1.3365 - val_accuracy: 0.5636\n",
            "Epoch 37/60\n",
            "720/720 [==============================] - 6s 8ms/step - loss: 1.3406 - accuracy: 0.5666 - val_loss: 1.3513 - val_accuracy: 0.5668\n",
            "Epoch 38/60\n",
            "720/720 [==============================] - 6s 9ms/step - loss: 1.3340 - accuracy: 0.5663 - val_loss: 1.3963 - val_accuracy: 0.5466\n",
            "Epoch 39/60\n",
            "720/720 [==============================] - 6s 9ms/step - loss: 1.3302 - accuracy: 0.5691 - val_loss: 1.3421 - val_accuracy: 0.5621\n",
            "Epoch 40/60\n",
            "720/720 [==============================] - 6s 9ms/step - loss: 1.3155 - accuracy: 0.5747 - val_loss: 1.4382 - val_accuracy: 0.5284\n",
            "Epoch 41/60\n",
            "720/720 [==============================] - 6s 9ms/step - loss: 1.3266 - accuracy: 0.5697 - val_loss: 1.3797 - val_accuracy: 0.5508\n",
            "Epoch 42/60\n",
            "720/720 [==============================] - 6s 8ms/step - loss: 1.3124 - accuracy: 0.5763 - val_loss: 1.3226 - val_accuracy: 0.5651\n",
            "Epoch 43/60\n",
            "720/720 [==============================] - 6s 8ms/step - loss: 1.3073 - accuracy: 0.5790 - val_loss: 1.4102 - val_accuracy: 0.5454\n",
            "Epoch 44/60\n",
            "720/720 [==============================] - 6s 8ms/step - loss: 1.3031 - accuracy: 0.5770 - val_loss: 1.3527 - val_accuracy: 0.5599\n",
            "Epoch 45/60\n",
            "720/720 [==============================] - 6s 8ms/step - loss: 1.2999 - accuracy: 0.5812 - val_loss: 1.3408 - val_accuracy: 0.5621\n",
            "Epoch 46/60\n",
            "720/720 [==============================] - 6s 8ms/step - loss: 1.2841 - accuracy: 0.5868 - val_loss: 1.3321 - val_accuracy: 0.5703\n",
            "Epoch 47/60\n",
            "720/720 [==============================] - 7s 9ms/step - loss: 1.2907 - accuracy: 0.5849 - val_loss: 1.2801 - val_accuracy: 0.5831\n",
            "Epoch 48/60\n",
            "720/720 [==============================] - 7s 9ms/step - loss: 1.2842 - accuracy: 0.5884 - val_loss: 1.3534 - val_accuracy: 0.5651\n",
            "Epoch 49/60\n",
            "720/720 [==============================] - 6s 8ms/step - loss: 1.2814 - accuracy: 0.5851 - val_loss: 1.3037 - val_accuracy: 0.5752\n",
            "Epoch 50/60\n",
            "720/720 [==============================] - 6s 9ms/step - loss: 1.2776 - accuracy: 0.5871 - val_loss: 1.3539 - val_accuracy: 0.5557\n",
            "Epoch 51/60\n",
            "720/720 [==============================] - 6s 8ms/step - loss: 1.2679 - accuracy: 0.5920 - val_loss: 1.4400 - val_accuracy: 0.5365\n",
            "Epoch 52/60\n",
            "720/720 [==============================] - 6s 8ms/step - loss: 1.2656 - accuracy: 0.5909 - val_loss: 1.3086 - val_accuracy: 0.5811\n",
            "Epoch 53/60\n",
            "720/720 [==============================] - 8s 11ms/step - loss: 1.2630 - accuracy: 0.5934 - val_loss: 1.3805 - val_accuracy: 0.5466\n",
            "Epoch 54/60\n",
            "720/720 [==============================] - 6s 9ms/step - loss: 1.2532 - accuracy: 0.5949 - val_loss: 1.2793 - val_accuracy: 0.5853\n",
            "Epoch 55/60\n",
            "720/720 [==============================] - 6s 8ms/step - loss: 1.2560 - accuracy: 0.5946 - val_loss: 1.3499 - val_accuracy: 0.5594\n",
            "Epoch 56/60\n",
            "720/720 [==============================] - 6s 8ms/step - loss: 1.2537 - accuracy: 0.5976 - val_loss: 1.2909 - val_accuracy: 0.5809\n",
            "Epoch 57/60\n",
            "720/720 [==============================] - 6s 9ms/step - loss: 1.2406 - accuracy: 0.5997 - val_loss: 1.2663 - val_accuracy: 0.5902\n",
            "Epoch 58/60\n",
            "720/720 [==============================] - 6s 8ms/step - loss: 1.2401 - accuracy: 0.6009 - val_loss: 1.2938 - val_accuracy: 0.5882\n",
            "Epoch 59/60\n",
            "720/720 [==============================] - 6s 9ms/step - loss: 1.2445 - accuracy: 0.5983 - val_loss: 1.2968 - val_accuracy: 0.5769\n",
            "Epoch 60/60\n",
            "720/720 [==============================] - 6s 8ms/step - loss: 1.2341 - accuracy: 0.6039 - val_loss: 1.2482 - val_accuracy: 0.6025\n"
          ]
        },
        {
          "output_type": "display_data",
          "data": {
            "text/plain": [
              "<Figure size 432x288 with 1 Axes>"
            ],
            "image/png": "[encoded data removed]"
          },
          "metadata": {
            "needs_background": "light"
          }
        },
        {
          "output_type": "display_data",
          "data": {
            "text/plain": [
              "<Figure size 432x288 with 1 Axes>"
            ],
            "image/png": "[encoded data removed]"
          },
          "metadata": {
            "needs_background": "light"
          }
        },
        {
          "output_type": "stream",
          "name": "stdout",
          "text": [
            "64/64 [==============================] - 0s 5ms/step - loss: 1.2369 - accuracy: 0.6194\n"
          ]
        },
        {
          "output_type": "execute_result",
          "data": {
            "text/plain": [
              "[1.2368627786636353, 0.6194213032722473]"
            ]
          },
          "metadata": {},
          "execution_count": 46
        }
      ]
    },
    {
      "cell_type": "code",
      "source": [
        "# Model 1 with \n",
        "batch_size = 128\n",
        "model1_2 = Sequential([\n",
        "    Conv2D(32, kernel_size=3, strides=2, padding='same', kernel_initializer='he_normal', input_shape=(28, 28, 1)),\n",
        "    MaxPool2D(),\n",
        "    GlobalAvgPool2D(),\n",
        "    Dense(32, activation='relu'),\n",
        "    # Dropout(0.2),\n",
        "    Dense(26, activation='sigmoid')\n",
        "])\n",
        "# Compile\n",
        "model1_2.compile(\n",
        "    loss='sparse_categorical_crossentropy',\n",
        "    optimizer='adam',\n",
        "    metrics=['accuracy']\n",
        ")\n",
        "history1_2 = model1_2.fit(\n",
        "      X_train, y_train,\n",
        "      batch_size=batch_size,\n",
        "      epochs=60,\n",
        "      validation_data=(X_valid, y_valid),\n",
        "      shuffle=True\n",
        "    )\n",
        "\n",
        "plt.figure(1)\n",
        "plt.plot(history1_2.history['loss'])\n",
        "plt.plot(history1_2.history['val_loss'])\n",
        "plt.legend(['training','validation'])\n",
        "plt.title('LOSS')\n",
        "plt.xlabel('epochs')\n",
        "\n",
        "plt.figure(2)\n",
        "plt.plot(history1_2.history['accuracy'])\n",
        "plt.plot(history1_2.history['val_accuracy'])\n",
        "plt.legend(['training','validation'])\n",
        "plt.title('ACCURACY')\n",
        "plt.xlabel('epochs')\n",
        "plt.show()\n",
        "\n",
        "model1_2.evaluate(X_test,y_test)\n",
        "\n"
      ],
      "metadata": {
        "colab": {
          "base_uri": "https://localhost:8080/",
          "height": 1000
        },
        "id": "4Gcw79xdbsXL",
        "outputId": "5b02e0dd-7d98-45df-9112-cc5d7c859e22"
      },
      "execution_count": 18,
      "outputs": [
        {
          "output_type": "stream",
          "name": "stdout",
          "text": [
            "Epoch 1/60\n",
            "180/180 [==============================] - 7s 27ms/step - loss: 7.8532 - accuracy: 0.0447 - val_loss: 3.2499 - val_accuracy: 0.0438\n",
            "Epoch 2/60\n",
            "180/180 [==============================] - 3s 19ms/step - loss: 3.2227 - accuracy: 0.0626 - val_loss: 3.2143 - val_accuracy: 0.0660\n",
            "Epoch 3/60\n",
            "180/180 [==============================] - 3s 19ms/step - loss: 3.1767 - accuracy: 0.0726 - val_loss: 3.1643 - val_accuracy: 0.0716\n",
            "Epoch 4/60\n",
            "180/180 [==============================] - 3s 19ms/step - loss: 3.1078 - accuracy: 0.0784 - val_loss: 3.0935 - val_accuracy: 0.0844\n",
            "Epoch 5/60\n",
            "180/180 [==============================] - 3s 19ms/step - loss: 3.0040 - accuracy: 0.0921 - val_loss: 2.9592 - val_accuracy: 0.0950\n",
            "Epoch 6/60\n",
            "180/180 [==============================] - 3s 19ms/step - loss: 2.8527 - accuracy: 0.1057 - val_loss: 2.8153 - val_accuracy: 0.1036\n",
            "Epoch 7/60\n",
            "180/180 [==============================] - 3s 19ms/step - loss: 2.7376 - accuracy: 0.1185 - val_loss: 2.7152 - val_accuracy: 0.1231\n",
            "Epoch 8/60\n",
            "180/180 [==============================] - 3s 19ms/step - loss: 2.6300 - accuracy: 0.1463 - val_loss: 2.6031 - val_accuracy: 0.1696\n",
            "Epoch 9/60\n",
            "180/180 [==============================] - 3s 19ms/step - loss: 2.5459 - accuracy: 0.1753 - val_loss: 2.5322 - val_accuracy: 0.1903\n",
            "Epoch 10/60\n",
            "180/180 [==============================] - 3s 19ms/step - loss: 2.4841 - accuracy: 0.1999 - val_loss: 2.4752 - val_accuracy: 0.2035\n",
            "Epoch 11/60\n",
            "180/180 [==============================] - 3s 19ms/step - loss: 2.4251 - accuracy: 0.2233 - val_loss: 2.4066 - val_accuracy: 0.2348\n",
            "Epoch 12/60\n",
            "180/180 [==============================] - 3s 19ms/step - loss: 2.3634 - accuracy: 0.2392 - val_loss: 2.3353 - val_accuracy: 0.2646\n",
            "Epoch 13/60\n",
            "180/180 [==============================] - 3s 19ms/step - loss: 2.3111 - accuracy: 0.2588 - val_loss: 2.2820 - val_accuracy: 0.2794\n",
            "Epoch 14/60\n",
            "180/180 [==============================] - 3s 19ms/step - loss: 2.2575 - accuracy: 0.2783 - val_loss: 2.2383 - val_accuracy: 0.2880\n",
            "Epoch 15/60\n",
            "180/180 [==============================] - 3s 19ms/step - loss: 2.2002 - accuracy: 0.3002 - val_loss: 2.1846 - val_accuracy: 0.3069\n",
            "Epoch 16/60\n",
            "180/180 [==============================] - 3s 19ms/step - loss: 2.1408 - accuracy: 0.3184 - val_loss: 2.1271 - val_accuracy: 0.3239\n",
            "Epoch 17/60\n",
            "180/180 [==============================] - 3s 19ms/step - loss: 2.0897 - accuracy: 0.3357 - val_loss: 2.0645 - val_accuracy: 0.3458\n",
            "Epoch 18/60\n",
            "180/180 [==============================] - 3s 19ms/step - loss: 2.0445 - accuracy: 0.3470 - val_loss: 2.0518 - val_accuracy: 0.3379\n",
            "Epoch 19/60\n",
            "180/180 [==============================] - 3s 19ms/step - loss: 2.0047 - accuracy: 0.3569 - val_loss: 2.0099 - val_accuracy: 0.3584\n",
            "Epoch 20/60\n",
            "180/180 [==============================] - 3s 19ms/step - loss: 1.9786 - accuracy: 0.3665 - val_loss: 1.9719 - val_accuracy: 0.3704\n",
            "Epoch 21/60\n",
            "180/180 [==============================] - 3s 19ms/step - loss: 1.9517 - accuracy: 0.3744 - val_loss: 1.9725 - val_accuracy: 0.3716\n",
            "Epoch 22/60\n",
            "180/180 [==============================] - 3s 19ms/step - loss: 1.9283 - accuracy: 0.3801 - val_loss: 1.9505 - val_accuracy: 0.3808\n",
            "Epoch 23/60\n",
            "180/180 [==============================] - 3s 19ms/step - loss: 1.9095 - accuracy: 0.3873 - val_loss: 1.9364 - val_accuracy: 0.3748\n",
            "Epoch 24/60\n",
            "180/180 [==============================] - 3s 19ms/step - loss: 1.8937 - accuracy: 0.3934 - val_loss: 1.8983 - val_accuracy: 0.3872\n",
            "Epoch 25/60\n",
            "180/180 [==============================] - 3s 19ms/step - loss: 1.8825 - accuracy: 0.3911 - val_loss: 1.8853 - val_accuracy: 0.3913\n",
            "Epoch 26/60\n",
            "180/180 [==============================] - 3s 19ms/step - loss: 1.8637 - accuracy: 0.3994 - val_loss: 1.8834 - val_accuracy: 0.3955\n",
            "Epoch 27/60\n",
            "180/180 [==============================] - 3s 19ms/step - loss: 1.8483 - accuracy: 0.4036 - val_loss: 1.8547 - val_accuracy: 0.4004\n",
            "Epoch 28/60\n",
            "180/180 [==============================] - 3s 19ms/step - loss: 1.8353 - accuracy: 0.4083 - val_loss: 1.8376 - val_accuracy: 0.4093\n",
            "Epoch 29/60\n",
            "180/180 [==============================] - 3s 19ms/step - loss: 1.8226 - accuracy: 0.4139 - val_loss: 1.8391 - val_accuracy: 0.4046\n",
            "Epoch 30/60\n",
            "180/180 [==============================] - 3s 19ms/step - loss: 1.8159 - accuracy: 0.4127 - val_loss: 1.8176 - val_accuracy: 0.4147\n",
            "Epoch 31/60\n",
            "180/180 [==============================] - 4s 20ms/step - loss: 1.7981 - accuracy: 0.4190 - val_loss: 1.8242 - val_accuracy: 0.4044\n",
            "Epoch 32/60\n",
            "180/180 [==============================] - 4s 22ms/step - loss: 1.7895 - accuracy: 0.4209 - val_loss: 1.7945 - val_accuracy: 0.4322\n",
            "Epoch 33/60\n",
            "180/180 [==============================] - 3s 19ms/step - loss: 1.7783 - accuracy: 0.4250 - val_loss: 1.8009 - val_accuracy: 0.4255\n",
            "Epoch 34/60\n",
            "180/180 [==============================] - 3s 19ms/step - loss: 1.7674 - accuracy: 0.4323 - val_loss: 1.7758 - val_accuracy: 0.4268\n",
            "Epoch 35/60\n",
            "180/180 [==============================] - 3s 19ms/step - loss: 1.7522 - accuracy: 0.4354 - val_loss: 1.7681 - val_accuracy: 0.4334\n",
            "Epoch 36/60\n",
            "180/180 [==============================] - 3s 19ms/step - loss: 1.7412 - accuracy: 0.4370 - val_loss: 1.7537 - val_accuracy: 0.4351\n",
            "Epoch 37/60\n",
            "180/180 [==============================] - 3s 19ms/step - loss: 1.7280 - accuracy: 0.4430 - val_loss: 1.7393 - val_accuracy: 0.4452\n",
            "Epoch 38/60\n",
            "180/180 [==============================] - 3s 19ms/step - loss: 1.7183 - accuracy: 0.4460 - val_loss: 1.7331 - val_accuracy: 0.4425\n",
            "Epoch 39/60\n",
            "180/180 [==============================] - 3s 19ms/step - loss: 1.7038 - accuracy: 0.4510 - val_loss: 1.7201 - val_accuracy: 0.4563\n",
            "Epoch 40/60\n",
            "180/180 [==============================] - 3s 19ms/step - loss: 1.6914 - accuracy: 0.4543 - val_loss: 1.7472 - val_accuracy: 0.4381\n",
            "Epoch 41/60\n",
            "180/180 [==============================] - 3s 19ms/step - loss: 1.6796 - accuracy: 0.4621 - val_loss: 1.6793 - val_accuracy: 0.4615\n",
            "Epoch 42/60\n",
            "180/180 [==============================] - 3s 19ms/step - loss: 1.6698 - accuracy: 0.4621 - val_loss: 1.6782 - val_accuracy: 0.4745\n",
            "Epoch 43/60\n",
            "180/180 [==============================] - 3s 19ms/step - loss: 1.6572 - accuracy: 0.4657 - val_loss: 1.6641 - val_accuracy: 0.4703\n",
            "Epoch 44/60\n",
            "180/180 [==============================] - 3s 19ms/step - loss: 1.6527 - accuracy: 0.4661 - val_loss: 1.6642 - val_accuracy: 0.4681\n",
            "Epoch 45/60\n",
            "180/180 [==============================] - 3s 19ms/step - loss: 1.6446 - accuracy: 0.4694 - val_loss: 1.6699 - val_accuracy: 0.4662\n",
            "Epoch 46/60\n",
            "180/180 [==============================] - 3s 19ms/step - loss: 1.6389 - accuracy: 0.4732 - val_loss: 1.6343 - val_accuracy: 0.4812\n",
            "Epoch 47/60\n",
            "180/180 [==============================] - 3s 19ms/step - loss: 1.6305 - accuracy: 0.4775 - val_loss: 1.6426 - val_accuracy: 0.4804\n",
            "Epoch 48/60\n",
            "180/180 [==============================] - 3s 19ms/step - loss: 1.6262 - accuracy: 0.4757 - val_loss: 1.6331 - val_accuracy: 0.4770\n",
            "Epoch 49/60\n",
            "180/180 [==============================] - 3s 19ms/step - loss: 1.6181 - accuracy: 0.4781 - val_loss: 1.6334 - val_accuracy: 0.4822\n",
            "Epoch 50/60\n",
            "180/180 [==============================] - 3s 19ms/step - loss: 1.6095 - accuracy: 0.4813 - val_loss: 1.6409 - val_accuracy: 0.4755\n",
            "Epoch 51/60\n",
            "180/180 [==============================] - 3s 18ms/step - loss: 1.6059 - accuracy: 0.4811 - val_loss: 1.6156 - val_accuracy: 0.4920\n",
            "Epoch 52/60\n",
            "180/180 [==============================] - 3s 19ms/step - loss: 1.6005 - accuracy: 0.4845 - val_loss: 1.6161 - val_accuracy: 0.4807\n",
            "Epoch 53/60\n",
            "180/180 [==============================] - 3s 19ms/step - loss: 1.5934 - accuracy: 0.4849 - val_loss: 1.6379 - val_accuracy: 0.4758\n",
            "Epoch 54/60\n",
            "180/180 [==============================] - 3s 19ms/step - loss: 1.5903 - accuracy: 0.4887 - val_loss: 1.6168 - val_accuracy: 0.4851\n",
            "Epoch 55/60\n",
            "180/180 [==============================] - 3s 19ms/step - loss: 1.5886 - accuracy: 0.4884 - val_loss: 1.6006 - val_accuracy: 0.4878\n",
            "Epoch 56/60\n",
            "180/180 [==============================] - 3s 19ms/step - loss: 1.5820 - accuracy: 0.4913 - val_loss: 1.5839 - val_accuracy: 0.4932\n",
            "Epoch 57/60\n",
            "180/180 [==============================] - 3s 19ms/step - loss: 1.5760 - accuracy: 0.4904 - val_loss: 1.6238 - val_accuracy: 0.4871\n",
            "Epoch 58/60\n",
            "180/180 [==============================] - 3s 19ms/step - loss: 1.5722 - accuracy: 0.4970 - val_loss: 1.5731 - val_accuracy: 0.4979\n",
            "Epoch 59/60\n",
            "180/180 [==============================] - 3s 19ms/step - loss: 1.5679 - accuracy: 0.4934 - val_loss: 1.5736 - val_accuracy: 0.5026\n",
            "Epoch 60/60\n",
            "180/180 [==============================] - 3s 19ms/step - loss: 1.5600 - accuracy: 0.4985 - val_loss: 1.5800 - val_accuracy: 0.4954\n"
          ]
        },
        {
          "output_type": "display_data",
          "data": {
            "text/plain": [
              "<Figure size 432x288 with 1 Axes>"
            ],
            "image/png": "[encoded data removed]"
          },
          "metadata": {
            "needs_background": "light"
          }
        },
        {
          "output_type": "display_data",
          "data": {
            "text/plain": [
              "<Figure size 432x288 with 1 Axes>"
            ],
            "image/png": "[encoded data removed]"
          },
          "metadata": {
            "needs_background": "light"
          }
        },
        {
          "output_type": "stream",
          "name": "stdout",
          "text": [
            "64/64 [==============================] - 0s 4ms/step - loss: 1.5890 - accuracy: 0.5012\n"
          ]
        },
        {
          "output_type": "execute_result",
          "data": {
            "text/plain": [
              "[1.589021921157837, 0.5012260675430298]"
            ]
          },
          "metadata": {},
          "execution_count": 18
        }
      ]
    },
    {
      "cell_type": "code",
      "source": [
        "# Model 1 with \n",
        "batch_size = 256\n",
        "model1_3 = Sequential([\n",
        "    Conv2D(32, kernel_size=3, strides=2, padding='same', kernel_initializer='he_normal', input_shape=(28, 28, 1)),\n",
        "    MaxPool2D(),\n",
        "    GlobalAvgPool2D(),\n",
        "    Dense(32, activation='relu'),\n",
        "    # Dropout(0.2),\n",
        "    Dense(26, activation='sigmoid')\n",
        "])\n",
        "# Compile\n",
        "model1_3.compile(\n",
        "    loss='sparse_categorical_crossentropy',\n",
        "    optimizer='adam',\n",
        "    metrics=['accuracy']\n",
        ")\n",
        "history1_3 = model1_3.fit(\n",
        "      X_train, y_train,\n",
        "      batch_size=batch_size,\n",
        "      epochs=60,\n",
        "      validation_data=(X_valid, y_valid),\n",
        "      shuffle=True\n",
        "    )\n",
        "\n",
        "plt.figure(1)\n",
        "plt.plot(history1_3.history['loss'])\n",
        "plt.plot(history1_3.history['val_loss'])\n",
        "plt.legend(['training','validation'])\n",
        "plt.title('LOSS')\n",
        "plt.xlabel('epochs')\n",
        "\n",
        "plt.figure(2)\n",
        "plt.plot(history1_3.history['accuracy'])\n",
        "plt.plot(history1_3.history['val_accuracy'])\n",
        "plt.legend(['training','validation'])\n",
        "plt.title('ACCURACY')\n",
        "plt.xlabel('epochs')\n",
        "plt.show()\n",
        "\n",
        "model1_3.evaluate(X_test,y_test)\n",
        "\n"
      ],
      "metadata": {
        "colab": {
          "base_uri": "https://localhost:8080/",
          "height": 1000
        },
        "id": "mAqWnYVzes_K",
        "outputId": "55501009-ab1a-429e-ccd3-56c7c9708c3c"
      },
      "execution_count": 20,
      "outputs": [
        {
          "output_type": "stream",
          "name": "stdout",
          "text": [
            "Epoch 1/60\n",
            "90/90 [==============================] - 4s 37ms/step - loss: 14.8529 - accuracy: 0.0491 - val_loss: 5.8149 - val_accuracy: 0.0544\n",
            "Epoch 2/60\n",
            "90/90 [==============================] - 3s 30ms/step - loss: 5.1069 - accuracy: 0.0698 - val_loss: 4.4919 - val_accuracy: 0.0852\n",
            "Epoch 3/60\n",
            "90/90 [==============================] - 3s 30ms/step - loss: 4.1095 - accuracy: 0.0971 - val_loss: 3.7760 - val_accuracy: 0.1105\n",
            "Epoch 4/60\n",
            "90/90 [==============================] - 3s 30ms/step - loss: 3.5429 - accuracy: 0.1232 - val_loss: 3.3625 - val_accuracy: 0.1344\n",
            "Epoch 5/60\n",
            "90/90 [==============================] - 3s 30ms/step - loss: 3.1946 - accuracy: 0.1465 - val_loss: 3.0876 - val_accuracy: 0.1583\n",
            "Epoch 6/60\n",
            "90/90 [==============================] - 3s 30ms/step - loss: 2.9541 - accuracy: 0.1725 - val_loss: 2.8937 - val_accuracy: 0.1752\n",
            "Epoch 7/60\n",
            "90/90 [==============================] - 3s 29ms/step - loss: 2.7925 - accuracy: 0.1942 - val_loss: 2.7719 - val_accuracy: 0.1942\n",
            "Epoch 8/60\n",
            "90/90 [==============================] - 3s 29ms/step - loss: 2.6632 - accuracy: 0.2120 - val_loss: 2.6568 - val_accuracy: 0.2136\n",
            "Epoch 9/60\n",
            "90/90 [==============================] - 3s 30ms/step - loss: 2.5580 - accuracy: 0.2298 - val_loss: 2.5556 - val_accuracy: 0.2230\n",
            "Epoch 10/60\n",
            "90/90 [==============================] - 3s 30ms/step - loss: 2.4898 - accuracy: 0.2449 - val_loss: 2.5091 - val_accuracy: 0.2439\n",
            "Epoch 11/60\n",
            "90/90 [==============================] - 3s 30ms/step - loss: 2.4330 - accuracy: 0.2550 - val_loss: 2.4190 - val_accuracy: 0.2562\n",
            "Epoch 12/60\n",
            "90/90 [==============================] - 3s 30ms/step - loss: 2.3571 - accuracy: 0.2765 - val_loss: 2.3718 - val_accuracy: 0.2766\n",
            "Epoch 13/60\n",
            "90/90 [==============================] - 3s 30ms/step - loss: 2.3068 - accuracy: 0.2871 - val_loss: 2.2903 - val_accuracy: 0.2821\n",
            "Epoch 14/60\n",
            "90/90 [==============================] - 3s 30ms/step - loss: 2.2556 - accuracy: 0.2976 - val_loss: 2.2614 - val_accuracy: 0.2862\n",
            "Epoch 15/60\n",
            "90/90 [==============================] - 3s 30ms/step - loss: 2.2129 - accuracy: 0.3121 - val_loss: 2.2209 - val_accuracy: 0.3057\n",
            "Epoch 16/60\n",
            "90/90 [==============================] - 3s 30ms/step - loss: 2.1781 - accuracy: 0.3229 - val_loss: 2.1539 - val_accuracy: 0.3271\n",
            "Epoch 17/60\n",
            "90/90 [==============================] - 3s 29ms/step - loss: 2.1380 - accuracy: 0.3369 - val_loss: 2.1485 - val_accuracy: 0.3276\n",
            "Epoch 18/60\n",
            "90/90 [==============================] - 3s 30ms/step - loss: 2.1062 - accuracy: 0.3424 - val_loss: 2.1022 - val_accuracy: 0.3406\n",
            "Epoch 19/60\n",
            "90/90 [==============================] - 3s 33ms/step - loss: 2.0699 - accuracy: 0.3554 - val_loss: 2.1072 - val_accuracy: 0.3355\n",
            "Epoch 20/60\n",
            "90/90 [==============================] - 3s 30ms/step - loss: 2.0360 - accuracy: 0.3651 - val_loss: 2.0446 - val_accuracy: 0.3500\n",
            "Epoch 21/60\n",
            "90/90 [==============================] - 3s 30ms/step - loss: 2.0149 - accuracy: 0.3727 - val_loss: 2.0305 - val_accuracy: 0.3584\n",
            "Epoch 22/60\n",
            "90/90 [==============================] - 4s 47ms/step - loss: 1.9825 - accuracy: 0.3783 - val_loss: 1.9921 - val_accuracy: 0.3680\n",
            "Epoch 23/60\n",
            "90/90 [==============================] - 6s 66ms/step - loss: 1.9540 - accuracy: 0.3868 - val_loss: 1.9539 - val_accuracy: 0.3817\n",
            "Epoch 24/60\n",
            "90/90 [==============================] - 4s 41ms/step - loss: 1.9290 - accuracy: 0.3920 - val_loss: 1.9511 - val_accuracy: 0.3793\n",
            "Epoch 25/60\n",
            "90/90 [==============================] - 3s 30ms/step - loss: 1.8934 - accuracy: 0.4017 - val_loss: 1.9094 - val_accuracy: 0.3891\n",
            "Epoch 26/60\n",
            "90/90 [==============================] - 3s 31ms/step - loss: 1.8752 - accuracy: 0.4056 - val_loss: 1.8982 - val_accuracy: 0.4000\n",
            "Epoch 27/60\n",
            "90/90 [==============================] - 3s 38ms/step - loss: 1.8546 - accuracy: 0.4135 - val_loss: 1.8987 - val_accuracy: 0.4000\n",
            "Epoch 28/60\n",
            "90/90 [==============================] - 3s 30ms/step - loss: 1.8312 - accuracy: 0.4179 - val_loss: 1.8475 - val_accuracy: 0.4145\n",
            "Epoch 29/60\n",
            "90/90 [==============================] - 3s 30ms/step - loss: 1.8130 - accuracy: 0.4235 - val_loss: 1.8381 - val_accuracy: 0.4130\n",
            "Epoch 30/60\n",
            "90/90 [==============================] - 3s 35ms/step - loss: 1.7924 - accuracy: 0.4326 - val_loss: 1.8153 - val_accuracy: 0.4292\n",
            "Epoch 31/60\n",
            "90/90 [==============================] - 3s 30ms/step - loss: 1.7797 - accuracy: 0.4312 - val_loss: 1.8031 - val_accuracy: 0.4273\n",
            "Epoch 32/60\n",
            "90/90 [==============================] - 3s 30ms/step - loss: 1.7607 - accuracy: 0.4396 - val_loss: 1.7776 - val_accuracy: 0.4280\n",
            "Epoch 33/60\n",
            "90/90 [==============================] - 3s 30ms/step - loss: 1.7425 - accuracy: 0.4439 - val_loss: 1.7595 - val_accuracy: 0.4376\n",
            "Epoch 34/60\n",
            "90/90 [==============================] - 3s 30ms/step - loss: 1.7359 - accuracy: 0.4432 - val_loss: 1.7504 - val_accuracy: 0.4415\n",
            "Epoch 35/60\n",
            "90/90 [==============================] - 3s 29ms/step - loss: 1.7220 - accuracy: 0.4511 - val_loss: 1.7477 - val_accuracy: 0.4475\n",
            "Epoch 36/60\n",
            "90/90 [==============================] - 3s 30ms/step - loss: 1.7040 - accuracy: 0.4540 - val_loss: 1.7202 - val_accuracy: 0.4516\n",
            "Epoch 37/60\n",
            "90/90 [==============================] - 3s 29ms/step - loss: 1.6911 - accuracy: 0.4606 - val_loss: 1.7217 - val_accuracy: 0.4516\n",
            "Epoch 38/60\n",
            "90/90 [==============================] - 3s 29ms/step - loss: 1.6785 - accuracy: 0.4648 - val_loss: 1.7140 - val_accuracy: 0.4546\n",
            "Epoch 39/60\n",
            "90/90 [==============================] - 3s 30ms/step - loss: 1.6719 - accuracy: 0.4657 - val_loss: 1.7246 - val_accuracy: 0.4556\n",
            "Epoch 40/60\n",
            "90/90 [==============================] - 3s 29ms/step - loss: 1.6599 - accuracy: 0.4677 - val_loss: 1.7138 - val_accuracy: 0.4479\n",
            "Epoch 41/60\n",
            "90/90 [==============================] - 3s 30ms/step - loss: 1.6488 - accuracy: 0.4744 - val_loss: 1.6669 - val_accuracy: 0.4760\n",
            "Epoch 42/60\n",
            "90/90 [==============================] - 3s 30ms/step - loss: 1.6323 - accuracy: 0.4761 - val_loss: 1.6952 - val_accuracy: 0.4588\n",
            "Epoch 43/60\n",
            "90/90 [==============================] - 3s 30ms/step - loss: 1.6296 - accuracy: 0.4792 - val_loss: 1.6604 - val_accuracy: 0.4726\n",
            "Epoch 44/60\n",
            "90/90 [==============================] - 3s 30ms/step - loss: 1.6189 - accuracy: 0.4818 - val_loss: 1.6362 - val_accuracy: 0.4753\n",
            "Epoch 45/60\n",
            "90/90 [==============================] - 3s 30ms/step - loss: 1.6112 - accuracy: 0.4861 - val_loss: 1.6385 - val_accuracy: 0.4775\n",
            "Epoch 46/60\n",
            "90/90 [==============================] - 3s 30ms/step - loss: 1.5971 - accuracy: 0.4898 - val_loss: 1.6261 - val_accuracy: 0.4794\n",
            "Epoch 47/60\n",
            "90/90 [==============================] - 3s 30ms/step - loss: 1.5892 - accuracy: 0.4924 - val_loss: 1.6195 - val_accuracy: 0.4797\n",
            "Epoch 48/60\n",
            "90/90 [==============================] - 3s 31ms/step - loss: 1.5814 - accuracy: 0.4954 - val_loss: 1.6028 - val_accuracy: 0.4982\n",
            "Epoch 49/60\n",
            "90/90 [==============================] - 3s 31ms/step - loss: 1.5715 - accuracy: 0.4989 - val_loss: 1.5898 - val_accuracy: 0.4927\n",
            "Epoch 50/60\n",
            "90/90 [==============================] - 3s 30ms/step - loss: 1.5696 - accuracy: 0.5015 - val_loss: 1.6104 - val_accuracy: 0.4797\n",
            "Epoch 51/60\n",
            "90/90 [==============================] - 3s 30ms/step - loss: 1.5640 - accuracy: 0.4994 - val_loss: 1.5772 - val_accuracy: 0.4952\n",
            "Epoch 52/60\n",
            "90/90 [==============================] - 5s 51ms/step - loss: 1.5485 - accuracy: 0.5057 - val_loss: 1.6216 - val_accuracy: 0.4849\n",
            "Epoch 53/60\n",
            "90/90 [==============================] - 3s 31ms/step - loss: 1.5402 - accuracy: 0.5106 - val_loss: 1.5698 - val_accuracy: 0.4969\n",
            "Epoch 54/60\n",
            "90/90 [==============================] - 3s 30ms/step - loss: 1.5364 - accuracy: 0.5090 - val_loss: 1.5643 - val_accuracy: 0.4952\n",
            "Epoch 55/60\n",
            "90/90 [==============================] - 3s 30ms/step - loss: 1.5338 - accuracy: 0.5103 - val_loss: 1.5914 - val_accuracy: 0.4932\n",
            "Epoch 56/60\n",
            "90/90 [==============================] - 3s 31ms/step - loss: 1.5290 - accuracy: 0.5119 - val_loss: 1.5524 - val_accuracy: 0.5161\n",
            "Epoch 57/60\n",
            "90/90 [==============================] - 3s 30ms/step - loss: 1.5149 - accuracy: 0.5152 - val_loss: 1.5460 - val_accuracy: 0.5014\n",
            "Epoch 58/60\n",
            "90/90 [==============================] - 3s 31ms/step - loss: 1.5090 - accuracy: 0.5159 - val_loss: 1.5479 - val_accuracy: 0.5053\n",
            "Epoch 59/60\n",
            "90/90 [==============================] - 4s 40ms/step - loss: 1.5105 - accuracy: 0.5149 - val_loss: 1.5655 - val_accuracy: 0.5085\n",
            "Epoch 60/60\n",
            "90/90 [==============================] - 3s 31ms/step - loss: 1.5028 - accuracy: 0.5205 - val_loss: 1.5413 - val_accuracy: 0.5087\n"
          ]
        },
        {
          "output_type": "display_data",
          "data": {
            "text/plain": [
              "<Figure size 432x288 with 1 Axes>"
            ],
            "image/png": "[encoded data removed]"
          },
          "metadata": {
            "needs_background": "light"
          }
        },
        {
          "output_type": "display_data",
          "data": {
            "text/plain": [
              "<Figure size 432x288 with 1 Axes>"
            ],
            "image/png": "[encoded data removed]"
          },
          "metadata": {
            "needs_background": "light"
          }
        },
        {
          "output_type": "stream",
          "name": "stdout",
          "text": [
            "64/64 [==============================] - 0s 4ms/step - loss: 1.5319 - accuracy: 0.5140\n"
          ]
        },
        {
          "output_type": "execute_result",
          "data": {
            "text/plain": [
              "[1.531894564628601, 0.5139774680137634]"
            ]
          },
          "metadata": {},
          "execution_count": 20
        }
      ]
    },
    {
      "cell_type": "markdown",
      "source": [
        "### model2"
      ],
      "metadata": {
        "id": "tYxwfckuEsb1"
      }
    },
    {
      "cell_type": "code",
      "source": [
        "\n",
        "# Model 2 with \n",
        "batch_size = 32\n",
        "model2_1 = Sequential([\n",
        "    Conv2D(32, kernel_size=3, strides=2, padding='same', kernel_initializer='he_normal', input_shape=(28, 28, 1)),\n",
        "    MaxPool2D(),\n",
        "\n",
        "    BatchNormalization(),\n",
        "    Conv2D(64, kernel_size=3, padding='same', kernel_initializer='he_normal'),\n",
        "    BatchNormalization(),\n",
        "    Conv2D(64, kernel_size=3, padding='same', kernel_initializer='he_normal'),\n",
        "    MaxPool2D(),\n",
        "  \n",
        "    GlobalAvgPool2D(),\n",
        "    Dense(64, activation='relu'),\n",
        "    Dropout(0.2),\n",
        "    Dense(26, activation='sigmoid')\n",
        "])\n",
        "# Compile\n",
        "model2_1.compile(\n",
        "    loss='sparse_categorical_crossentropy',\n",
        "    optimizer='adam',\n",
        "    metrics=['accuracy']\n",
        ")\n",
        "history2_1 = model2_1.fit(\n",
        "      X_train, y_train,\n",
        "      batch_size=batch_size,\n",
        "      epochs=30,\n",
        "      validation_data=(X_valid, y_valid),\n",
        "      shuffle=True\n",
        "    )\n",
        "\n",
        "plt.figure(1)\n",
        "plt.plot(history2_1.history['loss'])\n",
        "plt.plot(history2_1.history['val_loss'])\n",
        "plt.legend(['training','validation'])\n",
        "plt.title('LOSS')\n",
        "plt.xlabel('epochs')\n",
        "\n",
        "plt.figure(2)\n",
        "plt.plot(history2_1.history['accuracy'])\n",
        "plt.plot(history2_1.history['val_accuracy'])\n",
        "plt.legend(['training','validation'])\n",
        "plt.title('ACCURACY')\n",
        "plt.xlabel('epochs')\n",
        "plt.show()\n",
        "\n",
        "model2_1.evaluate(X_test,y_test)\n",
        "\n",
        "\n"
      ],
      "metadata": {
        "colab": {
          "base_uri": "https://localhost:8080/",
          "height": 1000
        },
        "id": "KoLouzEIQBFD",
        "outputId": "bd9d4af5-b26d-4fa9-d55f-b0d0aa00d862"
      },
      "execution_count": 21,
      "outputs": [
        {
          "output_type": "stream",
          "name": "stdout",
          "text": [
            "Epoch 1/30\n",
            "720/720 [==============================] - 26s 36ms/step - loss: 1.1536 - accuracy: 0.6652 - val_loss: 0.4276 - val_accuracy: 0.8836\n",
            "Epoch 2/30\n",
            "720/720 [==============================] - 23s 32ms/step - loss: 0.4218 - accuracy: 0.8718 - val_loss: 0.2530 - val_accuracy: 0.9306\n",
            "Epoch 3/30\n",
            "720/720 [==============================] - 23s 32ms/step - loss: 0.2987 - accuracy: 0.9109 - val_loss: 0.2264 - val_accuracy: 0.9350\n",
            "Epoch 4/30\n",
            "720/720 [==============================] - 23s 32ms/step - loss: 0.2404 - accuracy: 0.9271 - val_loss: 0.1934 - val_accuracy: 0.9429\n",
            "Epoch 5/30\n",
            "720/720 [==============================] - 23s 33ms/step - loss: 0.2042 - accuracy: 0.9388 - val_loss: 0.1763 - val_accuracy: 0.9500\n",
            "Epoch 6/30\n",
            "720/720 [==============================] - 23s 32ms/step - loss: 0.1768 - accuracy: 0.9454 - val_loss: 0.1338 - val_accuracy: 0.9606\n",
            "Epoch 7/30\n",
            "720/720 [==============================] - 23s 32ms/step - loss: 0.1498 - accuracy: 0.9549 - val_loss: 0.1450 - val_accuracy: 0.9616\n",
            "Epoch 8/30\n",
            "720/720 [==============================] - 23s 32ms/step - loss: 0.1387 - accuracy: 0.9572 - val_loss: 0.1252 - val_accuracy: 0.9633\n",
            "Epoch 9/30\n",
            "720/720 [==============================] - 23s 32ms/step - loss: 0.1220 - accuracy: 0.9616 - val_loss: 0.1239 - val_accuracy: 0.9643\n",
            "Epoch 10/30\n",
            "720/720 [==============================] - 23s 32ms/step - loss: 0.1089 - accuracy: 0.9639 - val_loss: 0.1019 - val_accuracy: 0.9714\n",
            "Epoch 11/30\n",
            "720/720 [==============================] - 23s 32ms/step - loss: 0.0989 - accuracy: 0.9679 - val_loss: 0.0952 - val_accuracy: 0.9734\n",
            "Epoch 12/30\n",
            "720/720 [==============================] - 23s 32ms/step - loss: 0.0890 - accuracy: 0.9710 - val_loss: 0.0877 - val_accuracy: 0.9744\n",
            "Epoch 13/30\n",
            "720/720 [==============================] - 23s 32ms/step - loss: 0.0796 - accuracy: 0.9734 - val_loss: 0.0993 - val_accuracy: 0.9759\n",
            "Epoch 14/30\n",
            "720/720 [==============================] - 23s 32ms/step - loss: 0.0814 - accuracy: 0.9746 - val_loss: 0.0904 - val_accuracy: 0.9742\n",
            "Epoch 15/30\n",
            "720/720 [==============================] - 24s 33ms/step - loss: 0.0709 - accuracy: 0.9778 - val_loss: 0.0975 - val_accuracy: 0.9732\n",
            "Epoch 16/30\n",
            "720/720 [==============================] - 23s 32ms/step - loss: 0.0662 - accuracy: 0.9788 - val_loss: 0.0777 - val_accuracy: 0.9810\n",
            "Epoch 17/30\n",
            "720/720 [==============================] - 23s 32ms/step - loss: 0.0615 - accuracy: 0.9803 - val_loss: 0.0678 - val_accuracy: 0.9833\n",
            "Epoch 18/30\n",
            "720/720 [==============================] - 23s 32ms/step - loss: 0.0625 - accuracy: 0.9791 - val_loss: 0.1196 - val_accuracy: 0.9692\n",
            "Epoch 19/30\n",
            "720/720 [==============================] - 23s 32ms/step - loss: 0.0516 - accuracy: 0.9834 - val_loss: 0.0840 - val_accuracy: 0.9818\n",
            "Epoch 20/30\n",
            "720/720 [==============================] - 23s 32ms/step - loss: 0.0482 - accuracy: 0.9837 - val_loss: 0.0906 - val_accuracy: 0.9803\n",
            "Epoch 21/30\n",
            "720/720 [==============================] - 23s 32ms/step - loss: 0.0512 - accuracy: 0.9831 - val_loss: 0.0930 - val_accuracy: 0.9764\n",
            "Epoch 22/30\n",
            "720/720 [==============================] - 23s 32ms/step - loss: 0.0493 - accuracy: 0.9832 - val_loss: 0.0862 - val_accuracy: 0.9838\n",
            "Epoch 23/30\n",
            "720/720 [==============================] - 23s 33ms/step - loss: 0.0384 - accuracy: 0.9867 - val_loss: 0.0974 - val_accuracy: 0.9791\n",
            "Epoch 24/30\n",
            "720/720 [==============================] - 24s 34ms/step - loss: 0.0357 - accuracy: 0.9873 - val_loss: 0.0930 - val_accuracy: 0.9810\n",
            "Epoch 25/30\n",
            "720/720 [==============================] - 23s 32ms/step - loss: 0.0493 - accuracy: 0.9830 - val_loss: 0.0952 - val_accuracy: 0.9774\n",
            "Epoch 26/30\n",
            "720/720 [==============================] - 24s 33ms/step - loss: 0.0363 - accuracy: 0.9871 - val_loss: 0.0788 - val_accuracy: 0.9820\n",
            "Epoch 27/30\n",
            "720/720 [==============================] - 23s 32ms/step - loss: 0.0365 - accuracy: 0.9876 - val_loss: 0.0889 - val_accuracy: 0.9823\n",
            "Epoch 28/30\n",
            "720/720 [==============================] - 24s 34ms/step - loss: 0.0364 - accuracy: 0.9874 - val_loss: 0.0921 - val_accuracy: 0.9830\n",
            "Epoch 29/30\n",
            "720/720 [==============================] - 23s 32ms/step - loss: 0.0367 - accuracy: 0.9881 - val_loss: 0.0896 - val_accuracy: 0.9810\n",
            "Epoch 30/30\n",
            "720/720 [==============================] - 23s 32ms/step - loss: 0.0381 - accuracy: 0.9871 - val_loss: 0.0743 - val_accuracy: 0.9852\n"
          ]
        },
        {
          "output_type": "display_data",
          "data": {
            "text/plain": [
              "<Figure size 432x288 with 1 Axes>"
            ],
            "image/png": "[encoded data removed]"
          },
          "metadata": {
            "needs_background": "light"
          }
        },
        {
          "output_type": "display_data",
          "data": {
            "text/plain": [
              "<Figure size 432x288 with 1 Axes>"
            ],
            "image/png": "[encoded data removed]"
          },
          "metadata": {
            "needs_background": "light"
          }
        },
        {
          "output_type": "stream",
          "name": "stdout",
          "text": [
            "64/64 [==============================] - 1s 11ms/step - loss: 0.1129 - accuracy: 0.9823\n"
          ]
        },
        {
          "output_type": "execute_result",
          "data": {
            "text/plain": [
              "[0.11285722255706787, 0.9823442697525024]"
            ]
          },
          "metadata": {},
          "execution_count": 21
        }
      ]
    },
    {
      "cell_type": "code",
      "source": [
        "\n",
        "# Model 2 with \n",
        "batch_size = 128\n",
        "model2_2 = Sequential([\n",
        "    Conv2D(32, kernel_size=3, strides=2, padding='same', kernel_initializer='he_normal', input_shape=(28, 28, 1)),\n",
        "    MaxPool2D(),\n",
        "\n",
        "    BatchNormalization(),\n",
        "    Conv2D(64, kernel_size=3, padding='same', kernel_initializer='he_normal'),\n",
        "    BatchNormalization(),\n",
        "    Conv2D(64, kernel_size=3, padding='same', kernel_initializer='he_normal'),\n",
        "    MaxPool2D(),\n",
        "  \n",
        "    GlobalAvgPool2D(),\n",
        "    Dense(64, activation='relu'),\n",
        "    Dropout(0.2),\n",
        "    Dense(26, activation='sigmoid')\n",
        "])\n",
        "# Compile\n",
        "model2_2.compile(\n",
        "    loss='sparse_categorical_crossentropy',\n",
        "    optimizer='adam',\n",
        "    metrics=['accuracy']\n",
        ")\n",
        "history2_2 = model2_2.fit(\n",
        "      X_train, y_train,\n",
        "      batch_size=batch_size,\n",
        "      epochs=30,\n",
        "      validation_data=(X_valid, y_valid),\n",
        "      shuffle=True\n",
        "    )\n",
        "\n",
        "plt.figure(1)\n",
        "plt.plot(history2_2.history['loss'])\n",
        "plt.plot(history2_2.history['val_loss'])\n",
        "plt.legend(['training','validation'])\n",
        "plt.title('LOSS')\n",
        "plt.xlabel('epochs')\n",
        "\n",
        "plt.figure(2)\n",
        "plt.plot(history2_2.history['accuracy'])\n",
        "plt.plot(history2_2.history['val_accuracy'])\n",
        "plt.legend(['training','validation'])\n",
        "plt.title('ACCURACY')\n",
        "plt.xlabel('epochs')\n",
        "plt.show()\n",
        "\n",
        "model2_2.evaluate(X_test,y_test)\n",
        "\n",
        "\n"
      ],
      "metadata": {
        "colab": {
          "base_uri": "https://localhost:8080/",
          "height": 1000
        },
        "id": "ZIrYxQ0lfkko",
        "outputId": "01511ff1-a572-4d6e-c629-96901489e2f0"
      },
      "execution_count": 28,
      "outputs": [
        {
          "output_type": "stream",
          "name": "stdout",
          "text": [
            "Epoch 1/30\n",
            "180/180 [==============================] - 32s 173ms/step - loss: 1.6818 - accuracy: 0.5119 - val_loss: 0.6050 - val_accuracy: 0.8408\n",
            "Epoch 2/30\n",
            "180/180 [==============================] - 23s 125ms/step - loss: 0.5631 - accuracy: 0.8327 - val_loss: 0.3367 - val_accuracy: 0.9114\n",
            "Epoch 3/30\n",
            "180/180 [==============================] - 18s 99ms/step - loss: 0.3637 - accuracy: 0.8909 - val_loss: 0.2746 - val_accuracy: 0.9239\n",
            "Epoch 4/30\n",
            "180/180 [==============================] - 18s 100ms/step - loss: 0.2779 - accuracy: 0.9195 - val_loss: 0.2171 - val_accuracy: 0.9348\n",
            "Epoch 5/30\n",
            "180/180 [==============================] - 18s 99ms/step - loss: 0.2276 - accuracy: 0.9337 - val_loss: 0.1794 - val_accuracy: 0.9535\n",
            "Epoch 6/30\n",
            "180/180 [==============================] - 18s 99ms/step - loss: 0.1876 - accuracy: 0.9442 - val_loss: 0.1598 - val_accuracy: 0.9577\n",
            "Epoch 7/30\n",
            "180/180 [==============================] - 19s 104ms/step - loss: 0.1634 - accuracy: 0.9520 - val_loss: 0.1362 - val_accuracy: 0.9646\n",
            "Epoch 8/30\n",
            "180/180 [==============================] - 18s 99ms/step - loss: 0.1353 - accuracy: 0.9594 - val_loss: 0.1241 - val_accuracy: 0.9648\n",
            "Epoch 9/30\n",
            "180/180 [==============================] - 19s 108ms/step - loss: 0.1234 - accuracy: 0.9620 - val_loss: 0.1048 - val_accuracy: 0.9722\n",
            "Epoch 10/30\n",
            "180/180 [==============================] - 18s 98ms/step - loss: 0.1145 - accuracy: 0.9654 - val_loss: 0.1152 - val_accuracy: 0.9685\n",
            "Epoch 11/30\n",
            "180/180 [==============================] - 18s 98ms/step - loss: 0.0988 - accuracy: 0.9704 - val_loss: 0.1013 - val_accuracy: 0.9692\n",
            "Epoch 12/30\n",
            "180/180 [==============================] - 18s 98ms/step - loss: 0.0891 - accuracy: 0.9735 - val_loss: 0.0923 - val_accuracy: 0.9771\n",
            "Epoch 13/30\n",
            "180/180 [==============================] - 18s 97ms/step - loss: 0.0837 - accuracy: 0.9747 - val_loss: 0.0913 - val_accuracy: 0.9744\n",
            "Epoch 14/30\n",
            "180/180 [==============================] - 18s 97ms/step - loss: 0.0762 - accuracy: 0.9773 - val_loss: 0.0814 - val_accuracy: 0.9776\n",
            "Epoch 15/30\n",
            "180/180 [==============================] - 17s 97ms/step - loss: 0.0717 - accuracy: 0.9777 - val_loss: 0.0816 - val_accuracy: 0.9771\n",
            "Epoch 16/30\n",
            "180/180 [==============================] - 18s 97ms/step - loss: 0.0603 - accuracy: 0.9812 - val_loss: 0.0736 - val_accuracy: 0.9825\n",
            "Epoch 17/30\n",
            "180/180 [==============================] - 18s 98ms/step - loss: 0.0566 - accuracy: 0.9830 - val_loss: 0.0848 - val_accuracy: 0.9798\n",
            "Epoch 18/30\n",
            "180/180 [==============================] - 18s 98ms/step - loss: 0.0559 - accuracy: 0.9827 - val_loss: 0.0760 - val_accuracy: 0.9825\n",
            "Epoch 19/30\n",
            "180/180 [==============================] - 18s 97ms/step - loss: 0.0530 - accuracy: 0.9835 - val_loss: 0.0830 - val_accuracy: 0.9801\n",
            "Epoch 20/30\n",
            "180/180 [==============================] - 18s 98ms/step - loss: 0.0483 - accuracy: 0.9848 - val_loss: 0.0674 - val_accuracy: 0.9840\n",
            "Epoch 21/30\n",
            "180/180 [==============================] - 18s 98ms/step - loss: 0.0439 - accuracy: 0.9865 - val_loss: 0.0635 - val_accuracy: 0.9838\n",
            "Epoch 22/30\n",
            "180/180 [==============================] - 18s 98ms/step - loss: 0.0389 - accuracy: 0.9879 - val_loss: 0.0880 - val_accuracy: 0.9788\n",
            "Epoch 23/30\n",
            "180/180 [==============================] - 18s 99ms/step - loss: 0.0403 - accuracy: 0.9874 - val_loss: 0.0792 - val_accuracy: 0.9815\n",
            "Epoch 24/30\n",
            "180/180 [==============================] - 18s 97ms/step - loss: 0.0354 - accuracy: 0.9887 - val_loss: 0.0635 - val_accuracy: 0.9847\n",
            "Epoch 25/30\n",
            "180/180 [==============================] - 18s 98ms/step - loss: 0.0346 - accuracy: 0.9882 - val_loss: 0.0780 - val_accuracy: 0.9838\n",
            "Epoch 26/30\n",
            "180/180 [==============================] - 18s 98ms/step - loss: 0.0378 - accuracy: 0.9881 - val_loss: 0.0702 - val_accuracy: 0.9808\n",
            "Epoch 27/30\n",
            "180/180 [==============================] - 18s 98ms/step - loss: 0.0425 - accuracy: 0.9864 - val_loss: 0.0815 - val_accuracy: 0.9820\n",
            "Epoch 28/30\n",
            "180/180 [==============================] - 18s 97ms/step - loss: 0.0317 - accuracy: 0.9897 - val_loss: 0.0740 - val_accuracy: 0.9840\n",
            "Epoch 29/30\n",
            "180/180 [==============================] - 18s 97ms/step - loss: 0.0295 - accuracy: 0.9898 - val_loss: 0.0859 - val_accuracy: 0.9803\n",
            "Epoch 30/30\n",
            "180/180 [==============================] - 18s 98ms/step - loss: 0.0299 - accuracy: 0.9910 - val_loss: 0.0683 - val_accuracy: 0.9845\n"
          ]
        },
        {
          "output_type": "display_data",
          "data": {
            "text/plain": [
              "<Figure size 432x288 with 1 Axes>"
            ],
            "image/png": "[encoded data removed]"
          },
          "metadata": {
            "needs_background": "light"
          }
        },
        {
          "output_type": "display_data",
          "data": {
            "text/plain": [
              "<Figure size 432x288 with 1 Axes>"
            ],
            "image/png": "[encoded data removed]"
          },
          "metadata": {
            "needs_background": "light"
          }
        },
        {
          "output_type": "stream",
          "name": "stdout",
          "text": [
            "64/64 [==============================] - 1s 10ms/step - loss: 0.0841 - accuracy: 0.9814\n"
          ]
        },
        {
          "output_type": "execute_result",
          "data": {
            "text/plain": [
              "[0.08405640721321106, 0.9813634157180786]"
            ]
          },
          "metadata": {},
          "execution_count": 28
        }
      ]
    },
    {
      "cell_type": "code",
      "source": [
        "\n",
        "# Model 2 with \n",
        "batch_size = 256\n",
        "model2_3 = Sequential([\n",
        "    Conv2D(32, kernel_size=3, strides=2, padding='same', kernel_initializer='he_normal', input_shape=(28, 28, 1)),\n",
        "    MaxPool2D(),\n",
        "\n",
        "    BatchNormalization(),\n",
        "    Conv2D(64, kernel_size=3, padding='same', kernel_initializer='he_normal'),\n",
        "    BatchNormalization(),\n",
        "    Conv2D(64, kernel_size=3, padding='same', kernel_initializer='he_normal'),\n",
        "    MaxPool2D(),\n",
        "  \n",
        "    GlobalAvgPool2D(),\n",
        "    Dense(64, activation='relu'),\n",
        "    Dropout(0.2),\n",
        "    Dense(26, activation='sigmoid')\n",
        "])\n",
        "# Compile\n",
        "model2_3.compile(\n",
        "    loss='sparse_categorical_crossentropy',\n",
        "    optimizer='adam',\n",
        "    metrics=['accuracy']\n",
        ")\n",
        "history2_3 = model2_3.fit(\n",
        "      X_train, y_train,\n",
        "      batch_size=batch_size,\n",
        "      epochs=30,\n",
        "      validation_data=(X_valid, y_valid),\n",
        "      shuffle=True\n",
        "    )\n",
        "\n",
        "plt.figure(1)\n",
        "plt.plot(history2_3.history['loss'])\n",
        "plt.plot(history2_3.history['val_loss'])\n",
        "plt.legend(['training','validation'])\n",
        "plt.title('LOSS')\n",
        "plt.xlabel('epochs')\n",
        "\n",
        "plt.figure(2)\n",
        "plt.plot(history2_3.history['accuracy'])\n",
        "plt.plot(history2_3.history['val_accuracy'])\n",
        "plt.legend(['training','validation'])\n",
        "plt.title('ACCURACY')\n",
        "plt.xlabel('epochs')\n",
        "plt.show()\n",
        "\n",
        "model2_3.evaluate(X_test,y_test)\n",
        "\n",
        "\n"
      ],
      "metadata": {
        "colab": {
          "base_uri": "https://localhost:8080/",
          "height": 1000
        },
        "id": "u6BcoAulfll_",
        "outputId": "c38cea40-7f46-489a-ee45-897929423eab"
      },
      "execution_count": 23,
      "outputs": [
        {
          "output_type": "stream",
          "name": "stdout",
          "text": [
            "Epoch 1/30\n",
            "90/90 [==============================] - 17s 179ms/step - loss: 2.0202 - accuracy: 0.4241 - val_loss: 2.0766 - val_accuracy: 0.3872\n",
            "Epoch 2/30\n",
            "90/90 [==============================] - 16s 175ms/step - loss: 0.8047 - accuracy: 0.7653 - val_loss: 0.4698 - val_accuracy: 0.8676\n",
            "Epoch 3/30\n",
            "90/90 [==============================] - 16s 174ms/step - loss: 0.5205 - accuracy: 0.8481 - val_loss: 0.3412 - val_accuracy: 0.9070\n",
            "Epoch 4/30\n",
            "90/90 [==============================] - 16s 174ms/step - loss: 0.3929 - accuracy: 0.8839 - val_loss: 0.3164 - val_accuracy: 0.9043\n",
            "Epoch 5/30\n",
            "90/90 [==============================] - 16s 174ms/step - loss: 0.3138 - accuracy: 0.9101 - val_loss: 0.2389 - val_accuracy: 0.9331\n",
            "Epoch 6/30\n",
            "90/90 [==============================] - 16s 174ms/step - loss: 0.2660 - accuracy: 0.9232 - val_loss: 0.1977 - val_accuracy: 0.9449\n",
            "Epoch 7/30\n",
            "90/90 [==============================] - 16s 173ms/step - loss: 0.2287 - accuracy: 0.9331 - val_loss: 0.1841 - val_accuracy: 0.9493\n",
            "Epoch 8/30\n",
            "90/90 [==============================] - 16s 177ms/step - loss: 0.1959 - accuracy: 0.9430 - val_loss: 0.1532 - val_accuracy: 0.9559\n",
            "Epoch 9/30\n",
            "90/90 [==============================] - 16s 180ms/step - loss: 0.1782 - accuracy: 0.9490 - val_loss: 0.1454 - val_accuracy: 0.9594\n",
            "Epoch 10/30\n",
            "90/90 [==============================] - 16s 180ms/step - loss: 0.1562 - accuracy: 0.9543 - val_loss: 0.1333 - val_accuracy: 0.9636\n",
            "Epoch 11/30\n",
            "90/90 [==============================] - 16s 176ms/step - loss: 0.1377 - accuracy: 0.9612 - val_loss: 0.1240 - val_accuracy: 0.9678\n",
            "Epoch 12/30\n",
            "90/90 [==============================] - 16s 177ms/step - loss: 0.1256 - accuracy: 0.9647 - val_loss: 0.1157 - val_accuracy: 0.9678\n",
            "Epoch 13/30\n",
            "90/90 [==============================] - 16s 176ms/step - loss: 0.1188 - accuracy: 0.9648 - val_loss: 0.1096 - val_accuracy: 0.9714\n",
            "Epoch 14/30\n",
            "90/90 [==============================] - 16s 176ms/step - loss: 0.1078 - accuracy: 0.9687 - val_loss: 0.1054 - val_accuracy: 0.9705\n",
            "Epoch 15/30\n",
            "90/90 [==============================] - 16s 175ms/step - loss: 0.0960 - accuracy: 0.9708 - val_loss: 0.0958 - val_accuracy: 0.9744\n",
            "Epoch 16/30\n",
            "90/90 [==============================] - 16s 173ms/step - loss: 0.0852 - accuracy: 0.9753 - val_loss: 0.0973 - val_accuracy: 0.9724\n",
            "Epoch 17/30\n",
            "90/90 [==============================] - 16s 182ms/step - loss: 0.0834 - accuracy: 0.9747 - val_loss: 0.0850 - val_accuracy: 0.9776\n",
            "Epoch 18/30\n",
            "90/90 [==============================] - 16s 176ms/step - loss: 0.0763 - accuracy: 0.9768 - val_loss: 0.0849 - val_accuracy: 0.9766\n",
            "Epoch 19/30\n",
            "90/90 [==============================] - 16s 174ms/step - loss: 0.0705 - accuracy: 0.9791 - val_loss: 0.0899 - val_accuracy: 0.9756\n",
            "Epoch 20/30\n",
            "90/90 [==============================] - 16s 173ms/step - loss: 0.0633 - accuracy: 0.9811 - val_loss: 0.0803 - val_accuracy: 0.9815\n",
            "Epoch 21/30\n",
            "90/90 [==============================] - 16s 173ms/step - loss: 0.0628 - accuracy: 0.9804 - val_loss: 0.0817 - val_accuracy: 0.9810\n",
            "Epoch 22/30\n",
            "90/90 [==============================] - 16s 173ms/step - loss: 0.0588 - accuracy: 0.9833 - val_loss: 0.0725 - val_accuracy: 0.9823\n",
            "Epoch 23/30\n",
            "90/90 [==============================] - 16s 173ms/step - loss: 0.0493 - accuracy: 0.9860 - val_loss: 0.0766 - val_accuracy: 0.9781\n",
            "Epoch 24/30\n",
            "90/90 [==============================] - 16s 174ms/step - loss: 0.0495 - accuracy: 0.9847 - val_loss: 0.0741 - val_accuracy: 0.9823\n",
            "Epoch 25/30\n",
            "90/90 [==============================] - 16s 173ms/step - loss: 0.0517 - accuracy: 0.9838 - val_loss: 0.0747 - val_accuracy: 0.9815\n",
            "Epoch 26/30\n",
            "90/90 [==============================] - 16s 173ms/step - loss: 0.0446 - accuracy: 0.9874 - val_loss: 0.0679 - val_accuracy: 0.9830\n",
            "Epoch 27/30\n",
            "90/90 [==============================] - 16s 173ms/step - loss: 0.0407 - accuracy: 0.9874 - val_loss: 0.0735 - val_accuracy: 0.9810\n",
            "Epoch 28/30\n",
            "90/90 [==============================] - 16s 174ms/step - loss: 0.0390 - accuracy: 0.9881 - val_loss: 0.0680 - val_accuracy: 0.9815\n",
            "Epoch 29/30\n",
            "90/90 [==============================] - 16s 173ms/step - loss: 0.0387 - accuracy: 0.9882 - val_loss: 0.0682 - val_accuracy: 0.9830\n",
            "Epoch 30/30\n",
            "90/90 [==============================] - 16s 179ms/step - loss: 0.0363 - accuracy: 0.9892 - val_loss: 0.0729 - val_accuracy: 0.9798\n"
          ]
        },
        {
          "output_type": "display_data",
          "data": {
            "text/plain": [
              "<Figure size 432x288 with 1 Axes>"
            ],
            "image/png": "[encoded data removed]"
          },
          "metadata": {
            "needs_background": "light"
          }
        },
        {
          "output_type": "display_data",
          "data": {
            "text/plain": [
              "<Figure size 432x288 with 1 Axes>"
            ],
            "image/png": "[encoded data removed]"
          },
          "metadata": {
            "needs_background": "light"
          }
        },
        {
          "output_type": "stream",
          "name": "stdout",
          "text": [
            "64/64 [==============================] - 1s 11ms/step - loss: 0.0873 - accuracy: 0.9823\n"
          ]
        },
        {
          "output_type": "execute_result",
          "data": {
            "text/plain": [
              "[0.08734293282032013, 0.9823442697525024]"
            ]
          },
          "metadata": {},
          "execution_count": 23
        }
      ]
    },
    {
      "cell_type": "code",
      "source": [
        "\n",
        "# Model 3 with \n",
        "batch_size = 32\n",
        "model3_1 = Sequential([\n",
        "    Conv2D(32, kernel_size=3, strides=2, padding='same', kernel_initializer='he_normal', input_shape=(28, 28, 1)),\n",
        "    MaxPool2D(),\n",
        "\n",
        "    BatchNormalization(),\n",
        "    Conv2D(64, kernel_size=3, padding='same', kernel_initializer='he_normal'),\n",
        "    BatchNormalization(),\n",
        "    Conv2D(64, kernel_size=3, padding='same', kernel_initializer='he_normal'),\n",
        "    MaxPool2D(),\n",
        "\n",
        "    BatchNormalization(),\n",
        "    Conv2D(128, kernel_size=3, padding='same', kernel_initializer='he_normal'),\n",
        "    BatchNormalization(),\n",
        "    Conv2D(128, kernel_size=3, padding='same', kernel_initializer='he_normal'),\n",
        "    MaxPool2D(),\n",
        "  \n",
        "    GlobalAvgPool2D(),\n",
        "    Dense(128, activation='relu'),\n",
        "    Dropout(0.2),\n",
        "    Dense(26, activation='sigmoid')\n",
        "])\n",
        "# Compile\n",
        "model3_1.compile(\n",
        "    loss='sparse_categorical_crossentropy',\n",
        "    optimizer='adam',\n",
        "    metrics=['accuracy']\n",
        ")\n",
        "history3_1 = model3_1.fit(\n",
        "      X_train, y_train,\n",
        "      batch_size=batch_size,\n",
        "      epochs=20,\n",
        "      validation_data=(X_valid, y_valid),\n",
        "      shuffle=True\n",
        "    )\n",
        "\n",
        "plt.figure(1)\n",
        "plt.plot(history3_1.history['loss'])\n",
        "plt.plot(history3_1.history['val_loss'])\n",
        "plt.legend(['training','validation'])\n",
        "plt.title('LOSS')\n",
        "plt.xlabel('epochs')\n",
        "\n",
        "plt.figure(2)\n",
        "plt.plot(history3_1.history['accuracy'])\n",
        "plt.plot(history3_1.history['val_accuracy'])\n",
        "plt.legend(['training','validation'])\n",
        "plt.title('ACCURACY')\n",
        "plt.xlabel('epochs')\n",
        "plt.show()\n",
        "\n",
        "model3_1.evaluate(X_test,y_test)\n",
        "\n",
        "\n"
      ],
      "metadata": {
        "colab": {
          "base_uri": "https://localhost:8080/",
          "height": 1000
        },
        "id": "TZPACFG2amNr",
        "outputId": "86d58ef5-9ad6-4adb-89ac-d48b5d9b0e1f"
      },
      "execution_count": 29,
      "outputs": [
        {
          "output_type": "stream",
          "name": "stdout",
          "text": [
            "Epoch 1/20\n",
            "720/720 [==============================] - 44s 60ms/step - loss: 0.5095 - accuracy: 0.8530 - val_loss: 0.2526 - val_accuracy: 0.9247\n",
            "Epoch 2/20\n",
            "720/720 [==============================] - 43s 60ms/step - loss: 0.1861 - accuracy: 0.9438 - val_loss: 0.1610 - val_accuracy: 0.9527\n",
            "Epoch 3/20\n",
            "720/720 [==============================] - 43s 59ms/step - loss: 0.1387 - accuracy: 0.9592 - val_loss: 0.1281 - val_accuracy: 0.9606\n",
            "Epoch 4/20\n",
            "720/720 [==============================] - 43s 59ms/step - loss: 0.1041 - accuracy: 0.9682 - val_loss: 0.1067 - val_accuracy: 0.9673\n",
            "Epoch 5/20\n",
            "720/720 [==============================] - 43s 59ms/step - loss: 0.0930 - accuracy: 0.9716 - val_loss: 0.1024 - val_accuracy: 0.9705\n",
            "Epoch 6/20\n",
            "720/720 [==============================] - 43s 60ms/step - loss: 0.0787 - accuracy: 0.9756 - val_loss: 0.1108 - val_accuracy: 0.9695\n",
            "Epoch 7/20\n",
            "720/720 [==============================] - 43s 60ms/step - loss: 0.0844 - accuracy: 0.9753 - val_loss: 0.0877 - val_accuracy: 0.9781\n",
            "Epoch 8/20\n",
            "720/720 [==============================] - 43s 60ms/step - loss: 0.0670 - accuracy: 0.9794 - val_loss: 0.0962 - val_accuracy: 0.9751\n",
            "Epoch 9/20\n",
            "720/720 [==============================] - 43s 60ms/step - loss: 0.0734 - accuracy: 0.9785 - val_loss: 0.0945 - val_accuracy: 0.9742\n",
            "Epoch 10/20\n",
            "720/720 [==============================] - 43s 60ms/step - loss: 0.0530 - accuracy: 0.9839 - val_loss: 0.0857 - val_accuracy: 0.9781\n",
            "Epoch 11/20\n",
            "720/720 [==============================] - 43s 60ms/step - loss: 0.0508 - accuracy: 0.9842 - val_loss: 0.1569 - val_accuracy: 0.9690\n",
            "Epoch 12/20\n",
            "720/720 [==============================] - 43s 59ms/step - loss: 0.0597 - accuracy: 0.9831 - val_loss: 0.0763 - val_accuracy: 0.9806\n",
            "Epoch 13/20\n",
            "720/720 [==============================] - 43s 60ms/step - loss: 0.0521 - accuracy: 0.9844 - val_loss: 0.1017 - val_accuracy: 0.9749\n",
            "Epoch 14/20\n",
            "720/720 [==============================] - 43s 60ms/step - loss: 0.0537 - accuracy: 0.9845 - val_loss: 0.0695 - val_accuracy: 0.9808\n",
            "Epoch 15/20\n",
            "720/720 [==============================] - 43s 60ms/step - loss: 0.0408 - accuracy: 0.9873 - val_loss: 0.1123 - val_accuracy: 0.9746\n",
            "Epoch 16/20\n",
            "720/720 [==============================] - 43s 59ms/step - loss: 0.0420 - accuracy: 0.9876 - val_loss: 0.1148 - val_accuracy: 0.9776\n",
            "Epoch 17/20\n",
            "720/720 [==============================] - 43s 60ms/step - loss: 0.0411 - accuracy: 0.9885 - val_loss: 0.0770 - val_accuracy: 0.9838\n",
            "Epoch 18/20\n",
            "720/720 [==============================] - 43s 60ms/step - loss: 0.0429 - accuracy: 0.9882 - val_loss: 0.0888 - val_accuracy: 0.9818\n",
            "Epoch 19/20\n",
            "720/720 [==============================] - 43s 60ms/step - loss: 0.0369 - accuracy: 0.9889 - val_loss: 0.0876 - val_accuracy: 0.9830\n",
            "Epoch 20/20\n",
            "720/720 [==============================] - 45s 62ms/step - loss: 0.0412 - accuracy: 0.9889 - val_loss: 0.0932 - val_accuracy: 0.9801\n"
          ]
        },
        {
          "output_type": "display_data",
          "data": {
            "text/plain": [
              "<Figure size 432x288 with 1 Axes>"
            ],
            "image/png": "[encoded data removed]"
          },
          "metadata": {
            "needs_background": "light"
          }
        },
        {
          "output_type": "display_data",
          "data": {
            "text/plain": [
              "<Figure size 432x288 with 1 Axes>"
            ],
            "image/png": "[encoded data removed]"
          },
          "metadata": {
            "needs_background": "light"
          }
        },
        {
          "output_type": "stream",
          "name": "stdout",
          "text": [
            "64/64 [==============================] - 1s 15ms/step - loss: 0.1378 - accuracy: 0.9745\n"
          ]
        },
        {
          "output_type": "execute_result",
          "data": {
            "text/plain": [
              "[0.137833833694458, 0.9744973182678223]"
            ]
          },
          "metadata": {},
          "execution_count": 29
        }
      ]
    },
    {
      "cell_type": "code",
      "source": [
        "\n",
        "# Model 3 with \n",
        "batch_size = 128\n",
        "model3_2 = Sequential([\n",
        "    Conv2D(32, kernel_size=3, strides=2, padding='same', kernel_initializer='he_normal', input_shape=(28, 28, 1)),\n",
        "    MaxPool2D(),\n",
        "\n",
        "    BatchNormalization(),\n",
        "    Conv2D(64, kernel_size=3, padding='same', kernel_initializer='he_normal'),\n",
        "    BatchNormalization(),\n",
        "    Conv2D(64, kernel_size=3, padding='same', kernel_initializer='he_normal'),\n",
        "    MaxPool2D(),\n",
        "\n",
        "    BatchNormalization(),\n",
        "    Conv2D(128, kernel_size=3, padding='same', kernel_initializer='he_normal'),\n",
        "    BatchNormalization(),\n",
        "    Conv2D(128, kernel_size=3, padding='same', kernel_initializer='he_normal'),\n",
        "    MaxPool2D(),\n",
        "  \n",
        "    GlobalAvgPool2D(),\n",
        "    Dense(128, activation='relu'),\n",
        "    Dropout(0.2),\n",
        "    Dense(26, activation='sigmoid')\n",
        "])\n",
        "# Compile\n",
        "model3_2.compile(\n",
        "    loss='sparse_categorical_crossentropy',\n",
        "    optimizer='adam',\n",
        "    metrics=['accuracy']\n",
        ")\n",
        "history3_2 = model3_2.fit(\n",
        "      X_train, y_train,\n",
        "      batch_size=batch_size,\n",
        "      epochs=20,\n",
        "      validation_data=(X_valid, y_valid),\n",
        "      shuffle=True\n",
        "    )\n",
        "\n",
        "plt.figure(1)\n",
        "plt.plot(history3_2.history['loss'])\n",
        "plt.plot(history3_2.history['val_loss'])\n",
        "plt.legend(['training','validation'])\n",
        "plt.title('LOSS')\n",
        "plt.xlabel('epochs')\n",
        "\n",
        "plt.figure(2)\n",
        "plt.plot(history3_2.history['accuracy'])\n",
        "plt.plot(history3_2.history['val_accuracy'])\n",
        "plt.legend(['training','validation'])\n",
        "plt.title('ACCURACY')\n",
        "plt.xlabel('epochs')\n",
        "plt.show()\n",
        "\n",
        "model3_2.evaluate(X_test,y_test)\n",
        "\n",
        "\n"
      ],
      "metadata": {
        "colab": {
          "base_uri": "https://localhost:8080/",
          "height": 1000
        },
        "id": "aIEAFkSggk6z",
        "outputId": "5279bdb8-7423-4f8f-f694-d34e3bd039d2"
      },
      "execution_count": 30,
      "outputs": [
        {
          "output_type": "stream",
          "name": "stdout",
          "text": [
            "Epoch 1/20\n",
            "180/180 [==============================] - 34s 186ms/step - loss: 0.6077 - accuracy: 0.8283 - val_loss: 0.2664 - val_accuracy: 0.9244\n",
            "Epoch 2/20\n",
            "180/180 [==============================] - 33s 185ms/step - loss: 0.1702 - accuracy: 0.9504 - val_loss: 0.1539 - val_accuracy: 0.9552\n",
            "Epoch 3/20\n",
            "180/180 [==============================] - 33s 183ms/step - loss: 0.1003 - accuracy: 0.9702 - val_loss: 0.1133 - val_accuracy: 0.9663\n",
            "Epoch 4/20\n",
            "180/180 [==============================] - 33s 185ms/step - loss: 0.0643 - accuracy: 0.9797 - val_loss: 0.1022 - val_accuracy: 0.9685\n",
            "Epoch 5/20\n",
            "180/180 [==============================] - 33s 186ms/step - loss: 0.0536 - accuracy: 0.9834 - val_loss: 0.0800 - val_accuracy: 0.9793\n",
            "Epoch 6/20\n",
            "180/180 [==============================] - 33s 185ms/step - loss: 0.0457 - accuracy: 0.9858 - val_loss: 0.0776 - val_accuracy: 0.9796\n",
            "Epoch 7/20\n",
            "180/180 [==============================] - 33s 184ms/step - loss: 0.0307 - accuracy: 0.9900 - val_loss: 0.0782 - val_accuracy: 0.9813\n",
            "Epoch 8/20\n",
            "180/180 [==============================] - 33s 185ms/step - loss: 0.0392 - accuracy: 0.9871 - val_loss: 0.0933 - val_accuracy: 0.9749\n",
            "Epoch 9/20\n",
            "180/180 [==============================] - 33s 185ms/step - loss: 0.0345 - accuracy: 0.9892 - val_loss: 0.0817 - val_accuracy: 0.9806\n",
            "Epoch 10/20\n",
            "180/180 [==============================] - 33s 186ms/step - loss: 0.0359 - accuracy: 0.9882 - val_loss: 0.0739 - val_accuracy: 0.9803\n",
            "Epoch 11/20\n",
            "180/180 [==============================] - 34s 188ms/step - loss: 0.0353 - accuracy: 0.9887 - val_loss: 0.1065 - val_accuracy: 0.9729\n",
            "Epoch 12/20\n",
            "180/180 [==============================] - 33s 186ms/step - loss: 0.0332 - accuracy: 0.9895 - val_loss: 0.1182 - val_accuracy: 0.9761\n",
            "Epoch 13/20\n",
            "180/180 [==============================] - 34s 187ms/step - loss: 0.0251 - accuracy: 0.9917 - val_loss: 0.0822 - val_accuracy: 0.9803\n",
            "Epoch 14/20\n",
            "180/180 [==============================] - 34s 187ms/step - loss: 0.0235 - accuracy: 0.9919 - val_loss: 0.0810 - val_accuracy: 0.9842\n",
            "Epoch 15/20\n",
            "180/180 [==============================] - 34s 187ms/step - loss: 0.0285 - accuracy: 0.9908 - val_loss: 0.0807 - val_accuracy: 0.9764\n",
            "Epoch 16/20\n",
            "180/180 [==============================] - 33s 186ms/step - loss: 0.0281 - accuracy: 0.9919 - val_loss: 0.0982 - val_accuracy: 0.9781\n",
            "Epoch 17/20\n",
            "180/180 [==============================] - 33s 186ms/step - loss: 0.0215 - accuracy: 0.9937 - val_loss: 0.0865 - val_accuracy: 0.9828\n",
            "Epoch 18/20\n",
            "180/180 [==============================] - 34s 188ms/step - loss: 0.0196 - accuracy: 0.9937 - val_loss: 0.0902 - val_accuracy: 0.9781\n",
            "Epoch 19/20\n",
            "180/180 [==============================] - 34s 187ms/step - loss: 0.0222 - accuracy: 0.9938 - val_loss: 0.0880 - val_accuracy: 0.9808\n",
            "Epoch 20/20\n",
            "180/180 [==============================] - 34s 186ms/step - loss: 0.0205 - accuracy: 0.9939 - val_loss: 0.1020 - val_accuracy: 0.9825\n"
          ]
        },
        {
          "output_type": "display_data",
          "data": {
            "text/plain": [
              "<Figure size 432x288 with 1 Axes>"
            ],
            "image/png": "[encoded data removed]"
          },
          "metadata": {
            "needs_background": "light"
          }
        },
        {
          "output_type": "display_data",
          "data": {
            "text/plain": [
              "<Figure size 432x288 with 1 Axes>"
            ],
            "image/png": "[encoded data removed]"
          },
          "metadata": {
            "needs_background": "light"
          }
        },
        {
          "output_type": "stream",
          "name": "stdout",
          "text": [
            "64/64 [==============================] - 1s 15ms/step - loss: 0.1241 - accuracy: 0.9804\n"
          ]
        },
        {
          "output_type": "execute_result",
          "data": {
            "text/plain": [
              "[0.12406443059444427, 0.9803825616836548]"
            ]
          },
          "metadata": {},
          "execution_count": 30
        }
      ]
    },
    {
      "cell_type": "code",
      "source": [
        "\n",
        "# Model 3 with \n",
        "batch_size = 256\n",
        "model3_3 = Sequential([\n",
        "    Conv2D(32, kernel_size=3, strides=2, padding='same', kernel_initializer='he_normal', input_shape=(28, 28, 1)),\n",
        "    MaxPool2D(),\n",
        "\n",
        "    BatchNormalization(),\n",
        "    Conv2D(64, kernel_size=3, padding='same', kernel_initializer='he_normal'),\n",
        "    BatchNormalization(),\n",
        "    Conv2D(64, kernel_size=3, padding='same', kernel_initializer='he_normal'),\n",
        "    MaxPool2D(),\n",
        "\n",
        "    BatchNormalization(),\n",
        "    Conv2D(128, kernel_size=3, padding='same', kernel_initializer='he_normal'),\n",
        "    BatchNormalization(),\n",
        "    Conv2D(128, kernel_size=3, padding='same', kernel_initializer='he_normal'),\n",
        "    MaxPool2D(),\n",
        "  \n",
        "    GlobalAvgPool2D(),\n",
        "    Dense(128, activation='relu'),\n",
        "    Dropout(0.2),\n",
        "    Dense(26, activation='sigmoid')\n",
        "])\n",
        "# Compile\n",
        "model3_3.compile(\n",
        "    loss='sparse_categorical_crossentropy',\n",
        "    optimizer='adam',\n",
        "    metrics=['accuracy']\n",
        ")\n",
        "history3_3 = model3_3.fit(\n",
        "      X_train, y_train,\n",
        "      batch_size=batch_size,\n",
        "      epochs=20,\n",
        "      validation_data=(X_valid, y_valid),\n",
        "      shuffle=True\n",
        "    )\n",
        "\n",
        "plt.figure(1)\n",
        "plt.plot(history3_3.history['loss'])\n",
        "plt.plot(history3_3.history['val_loss'])\n",
        "plt.legend(['training','validation'])\n",
        "plt.title('LOSS')\n",
        "plt.xlabel('epochs')\n",
        "\n",
        "plt.figure(2)\n",
        "plt.plot(history3_3.history['accuracy'])\n",
        "plt.plot(history3_3.history['val_accuracy'])\n",
        "plt.legend(['training','validation'])\n",
        "plt.title('ACCURACY')\n",
        "plt.xlabel('epochs')\n",
        "plt.show()\n",
        "\n",
        "model3_3.evaluate(X_test,y_test)\n",
        "\n",
        "\n"
      ],
      "metadata": {
        "colab": {
          "base_uri": "https://localhost:8080/",
          "height": 1000
        },
        "id": "cUp0EE4EgmFi",
        "outputId": "8a1f5446-ffe5-4b8f-ca88-005e92220b0c"
      },
      "execution_count": 33,
      "outputs": [
        {
          "output_type": "stream",
          "name": "stdout",
          "text": [
            "Epoch 1/20\n",
            "90/90 [==============================] - 52s 555ms/step - loss: 0.8538 - accuracy: 0.7571 - val_loss: 0.7431 - val_accuracy: 0.8107\n",
            "Epoch 2/20\n",
            "90/90 [==============================] - 31s 341ms/step - loss: 0.2033 - accuracy: 0.9411 - val_loss: 0.1987 - val_accuracy: 0.9404\n",
            "Epoch 3/20\n",
            "90/90 [==============================] - 31s 341ms/step - loss: 0.1123 - accuracy: 0.9663 - val_loss: 0.1342 - val_accuracy: 0.9596\n",
            "Epoch 4/20\n",
            "90/90 [==============================] - 31s 350ms/step - loss: 0.0689 - accuracy: 0.9793 - val_loss: 0.0926 - val_accuracy: 0.9759\n",
            "Epoch 5/20\n",
            "90/90 [==============================] - 32s 357ms/step - loss: 0.0394 - accuracy: 0.9887 - val_loss: 0.0755 - val_accuracy: 0.9783\n",
            "Epoch 6/20\n",
            "90/90 [==============================] - 31s 341ms/step - loss: 0.0372 - accuracy: 0.9889 - val_loss: 0.0875 - val_accuracy: 0.9776\n",
            "Epoch 7/20\n",
            "90/90 [==============================] - 31s 341ms/step - loss: 0.0328 - accuracy: 0.9894 - val_loss: 0.0787 - val_accuracy: 0.9806\n",
            "Epoch 8/20\n",
            "90/90 [==============================] - 33s 365ms/step - loss: 0.0217 - accuracy: 0.9934 - val_loss: 0.0755 - val_accuracy: 0.9818\n",
            "Epoch 9/20\n",
            "90/90 [==============================] - 31s 342ms/step - loss: 0.0223 - accuracy: 0.9933 - val_loss: 0.0676 - val_accuracy: 0.9828\n",
            "Epoch 10/20\n",
            "90/90 [==============================] - 31s 340ms/step - loss: 0.0198 - accuracy: 0.9934 - val_loss: 0.0787 - val_accuracy: 0.9786\n",
            "Epoch 11/20\n",
            "90/90 [==============================] - 31s 341ms/step - loss: 0.0235 - accuracy: 0.9927 - val_loss: 0.0715 - val_accuracy: 0.9813\n",
            "Epoch 12/20\n",
            "90/90 [==============================] - 30s 338ms/step - loss: 0.0163 - accuracy: 0.9949 - val_loss: 0.0788 - val_accuracy: 0.9835\n",
            "Epoch 13/20\n",
            "90/90 [==============================] - 31s 341ms/step - loss: 0.0165 - accuracy: 0.9952 - val_loss: 0.0738 - val_accuracy: 0.9830\n",
            "Epoch 14/20\n",
            "90/90 [==============================] - 31s 341ms/step - loss: 0.0205 - accuracy: 0.9935 - val_loss: 0.0732 - val_accuracy: 0.9818\n",
            "Epoch 15/20\n",
            "90/90 [==============================] - 33s 364ms/step - loss: 0.0180 - accuracy: 0.9941 - val_loss: 0.0668 - val_accuracy: 0.9835\n",
            "Epoch 16/20\n",
            "90/90 [==============================] - 31s 343ms/step - loss: 0.0135 - accuracy: 0.9950 - val_loss: 0.0593 - val_accuracy: 0.9833\n",
            "Epoch 17/20\n",
            "90/90 [==============================] - 31s 344ms/step - loss: 0.0139 - accuracy: 0.9957 - val_loss: 0.0727 - val_accuracy: 0.9840\n",
            "Epoch 18/20\n",
            "90/90 [==============================] - 31s 340ms/step - loss: 0.0153 - accuracy: 0.9949 - val_loss: 0.0868 - val_accuracy: 0.9815\n",
            "Epoch 19/20\n",
            "90/90 [==============================] - 31s 340ms/step - loss: 0.0204 - accuracy: 0.9940 - val_loss: 0.0910 - val_accuracy: 0.9793\n",
            "Epoch 20/20\n",
            "90/90 [==============================] - 31s 339ms/step - loss: 0.0148 - accuracy: 0.9947 - val_loss: 0.0972 - val_accuracy: 0.9793\n"
          ]
        },
        {
          "output_type": "display_data",
          "data": {
            "text/plain": [
              "<Figure size 432x288 with 1 Axes>"
            ],
            "image/png": "[encoded data removed]"
          },
          "metadata": {
            "needs_background": "light"
          }
        },
        {
          "output_type": "display_data",
          "data": {
            "text/plain": [
              "<Figure size 432x288 with 1 Axes>"
            ],
            "image/png": "[encoded data removed]"
          },
          "metadata": {
            "needs_background": "light"
          }
        },
        {
          "output_type": "stream",
          "name": "stdout",
          "text": [
            "64/64 [==============================] - 1s 15ms/step - loss: 0.0893 - accuracy: 0.9823\n"
          ]
        },
        {
          "output_type": "execute_result",
          "data": {
            "text/plain": [
              "[0.08925772458314896, 0.9823442697525024]"
            ]
          },
          "metadata": {},
          "execution_count": 33
        }
      ]
    },
    {
      "cell_type": "markdown",
      "metadata": {
        "id": "8ijVsbxVRB8Z"
      },
      "source": [
        "# **Model Prediction**"
      ]
    },
    {
      "cell_type": "code",
      "execution_count": 52,
      "metadata": {
        "_kg_hide-input": true,
        "trusted": true,
        "colab": {
          "base_uri": "https://localhost:8080/",
          "height": 1000
        },
        "id": "zlk3w_EWRB8Z",
        "outputId": "608e2837-8d03-4687-97ae-cc506934b6af"
      },
      "outputs": [
        {
          "output_type": "stream",
          "name": "stdout",
          "text": [
            "1/1 [==============================] - 0s 37ms/step\n",
            "1/1 [==============================] - 0s 18ms/step\n",
            "1/1 [==============================] - 0s 24ms/step\n",
            "1/1 [==============================] - 0s 18ms/step\n",
            "1/1 [==============================] - 0s 21ms/step\n",
            "1/1 [==============================] - 0s 29ms/step\n",
            "1/1 [==============================] - 0s 24ms/step\n",
            "1/1 [==============================] - 0s 18ms/step\n",
            "1/1 [==============================] - 0s 18ms/step\n",
            "1/1 [==============================] - 0s 17ms/step\n",
            "1/1 [==============================] - 0s 18ms/step\n",
            "1/1 [==============================] - 0s 18ms/step\n",
            "1/1 [==============================] - 0s 20ms/step\n",
            "1/1 [==============================] - 0s 20ms/step\n",
            "1/1 [==============================] - 0s 21ms/step\n",
            "1/1 [==============================] - 0s 17ms/step\n",
            "1/1 [==============================] - 0s 23ms/step\n",
            "1/1 [==============================] - 0s 19ms/step\n",
            "1/1 [==============================] - 0s 17ms/step\n",
            "1/1 [==============================] - 0s 49ms/step\n",
            "1/1 [==============================] - 0s 54ms/step\n",
            "1/1 [==============================] - 0s 29ms/step\n",
            "1/1 [==============================] - 0s 31ms/step\n",
            "1/1 [==============================] - 0s 29ms/step\n",
            "1/1 [==============================] - 0s 33ms/step\n",
            "1/1 [==============================] - 0s 29ms/step\n",
            "1/1 [==============================] - 0s 29ms/step\n",
            "1/1 [==============================] - 0s 26ms/step\n",
            "1/1 [==============================] - 0s 18ms/step\n",
            "1/1 [==============================] - 0s 18ms/step\n",
            "1/1 [==============================] - 0s 19ms/step\n",
            "1/1 [==============================] - 0s 18ms/step\n",
            "1/1 [==============================] - 0s 17ms/step\n",
            "1/1 [==============================] - 0s 19ms/step\n",
            "1/1 [==============================] - 0s 31ms/step\n",
            "1/1 [==============================] - 0s 19ms/step\n",
            "1/1 [==============================] - 0s 19ms/step\n",
            "1/1 [==============================] - 0s 18ms/step\n",
            "1/1 [==============================] - 0s 18ms/step\n",
            "1/1 [==============================] - 0s 19ms/step\n",
            "1/1 [==============================] - 0s 19ms/step\n",
            "1/1 [==============================] - 0s 19ms/step\n",
            "1/1 [==============================] - 0s 18ms/step\n",
            "1/1 [==============================] - 0s 17ms/step\n",
            "1/1 [==============================] - 0s 17ms/step\n",
            "1/1 [==============================] - 0s 19ms/step\n",
            "1/1 [==============================] - 0s 18ms/step\n",
            "1/1 [==============================] - 0s 18ms/step\n",
            "1/1 [==============================] - 0s 17ms/step\n"
          ]
        },
        {
          "output_type": "display_data",
          "data": {
            "text/plain": [
              "<Figure size 1440x1440 with 49 Axes>"
            ],
            "image/png": "[encoded data removed]"
          },
          "metadata": {
            "needs_background": "light"
          }
        }
      ],
      "source": [
        "plt.figure(figsize=(20,20))\n",
        "\n",
        "# Change to the model you want to see\n",
        "model = model1_3\n",
        "\n",
        "for i in range(1, 50):\n",
        "    id = np.random.randint(len(X_test))\n",
        "    image = X_test[id].reshape(28,28)\n",
        "    pred = chr(int(np.argmax(model.predict(image.reshape(-1,28,28,1))))+65)\n",
        "    plt.subplot(7,7,i)\n",
        "    plt.imshow(image, cmap='binary')\n",
        "    plt.title(f\"Prediction: {pred}\")\n",
        "    plt.axis('off')\n",
        "plt.tight_layout()\n",
        "\n"
      ]
    }
  ],
  "metadata": {
    "kernelspec": {
      "display_name": "Python 3",
      "language": "python",
      "name": "python3"
    },
    "language_info": {
      "codemirror_mode": {
        "name": "ipython",
        "version": 3
      },
      "file_extension": ".py",
      "mimetype": "text/x-python",
      "name": "python",
      "nbconvert_exporter": "python",
      "pygments_lexer": "ipython3",
      "version": "3.6.4"
    },
    "colab": {
      "provenance": []
    }
  },
  "nbformat": 4,
  "nbformat_minor": 0
}
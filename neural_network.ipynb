{
 "cells": [
  {
   "cell_type": "code",
   "execution_count": 1,
   "metadata": {},
   "outputs": [],
   "source": [
    "import numpy as np\n",
    "import matplotlib\n",
    "import pandas as pd\n",
    "import matplotlib.pyplot as plt"
   ]
  },
  {
   "cell_type": "markdown",
   "metadata": {},
   "source": [
    "Loading data"
   ]
  },
  {
   "cell_type": "code",
   "execution_count": 22,
   "metadata": {},
   "outputs": [],
   "source": [
    "df = pd.read_csv(\"A_Z Handwritten Data.csv\",header=None)\n",
    "y = df.iloc[:, 0].to_numpy()\n",
    "X = df.iloc[:,1:].to_numpy()\n",
    "np.random.shuffle(y)\n",
    "np.random.shuffle(X)\n"
   ]
  },
  {
   "cell_type": "code",
   "execution_count": 24,
   "metadata": {},
   "outputs": [],
   "source": [
    "nu_samp = X.shape[0]\n",
    "N = np.int_(nu_samp/2)\n",
    "num_cols = X.shape[1]\n",
    "X_tr = X[0:N].reshape(N, num_cols)\n",
    "y_tr = y[0:N].reshape(N, 1)\n",
    "X_val = X[N:]\n",
    "y_val = y[N:].reshape(N+1, 1)"
   ]
  },
  {
   "cell_type": "markdown",
   "metadata": {},
   "source": []
  },
  {
   "cell_type": "code",
   "execution_count": null,
   "metadata": {},
   "outputs": [],
   "source": []
  }
 ],
 "metadata": {
  "kernelspec": {
   "display_name": "Python 3.10.8 64-bit (microsoft store)",
   "language": "python",
   "name": "python3"
  },
  "language_info": {
   "codemirror_mode": {
    "name": "ipython",
    "version": 3
   },
   "file_extension": ".py",
   "mimetype": "text/x-python",
   "name": "python",
   "nbconvert_exporter": "python",
   "pygments_lexer": "ipython3",
   "version": "3.10.8"
  },
  "orig_nbformat": 4,
  "vscode": {
   "interpreter": {
    "hash": "ad5d7d759d16087574e22961348ab4e89dc03a5e9ce30cf93cc8d9eeb8dbe106"
   }
  }
 },
 "nbformat": 4,
 "nbformat_minor": 2
}
